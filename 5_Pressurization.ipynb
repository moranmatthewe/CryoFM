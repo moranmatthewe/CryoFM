{
 "cells": [
  {
   "cell_type": "markdown",
   "metadata": {},
   "source": [
    "# Pressurization"
   ]
  },
  {
   "cell_type": "markdown",
   "metadata": {},
   "source": [
    "## Overview"
   ]
  },
  {
   "cell_type": "markdown",
   "metadata": {},
   "source": [
    "Copyright 2024 Moran Innovation LLC\n",
    "\n",
    "   Licensed under the Apache License, Version 2.0 (the \"License\");\n",
    "   you may not use this file except in compliance with the License.\n",
    "   You may obtain a copy of the License at http://www.apache.org/licenses/LICENSE-2.0\n",
    "\n",
    "   Unless required by applicable law or agreed to in writing, software\n",
    "   distributed under the License is distributed on an \"AS IS\" BASIS,\n",
    "   WITHOUT WARRANTIES OR CONDITIONS OF ANY KIND, either express or implied.\n",
    "   See the License for the specific language governing permissions and\n",
    "   limitations under the License.\n",
    "\n",
    "CryoFM™ is a trademark of Moran Innovation LLC. All rights reserved."
   ]
  },
  {
   "cell_type": "markdown",
   "metadata": {},
   "source": [
    "### Usage Notes"
   ]
  },
  {
   "cell_type": "markdown",
   "metadata": {},
   "source": [
    "**HOW TO USE THIS INTERACTIVE NOTEBOOK:**\n",
    "* Use the table of contents icon and sidebar at the left to navigate to the topics of interest.\n",
    "* Change any of the input values and run the associated cell code.\n",
    "* If an interactive Binder web browser session is being used, the original file will not be altered. Therefore, if you wish to retain any modifications you make, save your file to local memory on your device.\n",
    "\n",
    "**CAUTION:** None of the code cells run automatically. The user must manually run selected code cells in sequence to achieve the desired results. Default units are SI.\n",
    "\n",
    "**REFERENCE REPORT AND TRAINING:** The reference report for this interactive notebook is \"Cryogenic fluid management of liquid hydrogen, oxygen, and methane: Part 1 - passive technologies, systems, and operations\",  Moran Innovation LLC, 2023. An online version of the report and training videos based on the content can be found here: https://sites.google.com/view/matthewemoran/training#h.ir8xm9d8wn6h."
   ]
  },
  {
   "cell_type": "markdown",
   "metadata": {},
   "source": [
    "## Active Pressurizaton"
   ]
  },
  {
   "cell_type": "markdown",
   "metadata": {},
   "source": [
    "### Lower Bound (Ideal) Estimate (condensible or non-condensible)"
   ]
  },
  {
   "cell_type": "code",
   "execution_count": 2,
   "metadata": {},
   "outputs": [
    {
     "name": "stdout",
     "output_type": "stream",
     "text": [
      "Lower bound (ideal) pressurant mass = 9.1158e+01 kg\n"
     ]
    }
   ],
   "source": [
    "import CoolProp.CoolProp as cp\n",
    "\n",
    "# INPUTS\n",
    "\n",
    "fluid = 'Oxygen'\n",
    "pressurant = 'Helium'\n",
    "volume_tank = 150.53  # m^3, tank volume\n",
    "fill_init = 0.95  # initial volumetric fill fraction\n",
    "press_init  = 1.5e5  # Pa, initial tank pressure\n",
    "fill_final = 0.03  # final volumetric fill fraction\n",
    "press_final = 4.0e5  # Pa, final tank pressure\n",
    "temp_gas_in = 300.0  # K, inlet pressurant gas temperature\n",
    "\n",
    "# FLUID PROPERTIES\n",
    "\n",
    "dens_vapsat_init = cp.PropsSI('D', 'Q', 1, 'P', press_init, fluid)\n",
    "    # kg, saturated vapor density at initial tank pressure\n",
    "entrop_vapsat_init = cp.PropsSI('S', 'Q', 1, 'P', press_init, fluid)\n",
    "    # J/kg-K, entropy of saturated vapor at the initial tank pressure\n",
    "dens_vap_final = cp.PropsSI('D', 'S', entrop_vapsat_init, 'P', press_final, \n",
    "            fluid) # kg, vapor density at final pressure and initial entropy\n",
    "dens_gas_final = cp.PropsSI('D', 'T', temp_gas_in, 'P', press_final, pressurant)\n",
    "    # kg, density of pressurant gas at final pressure and inlet temperature\n",
    "\n",
    "# OUTPUTS\n",
    "\n",
    "mass_gas_in = dens_gas_final * volume_tank * (1 - fill_final - dens_vapsat_init\n",
    "                                           / dens_vap_final * (1 - fill_init))\n",
    "print(\"Lower bound (ideal) pressurant mass =\", \"{:.4e}\".format(mass_gas_in), \n",
    "      \"kg\")"
   ]
  }
 ],
 "metadata": {
  "kernelspec": {
   "display_name": "base",
   "language": "python",
   "name": "python3"
  },
  "language_info": {
   "codemirror_mode": {
    "name": "ipython",
    "version": 3
   },
   "file_extension": ".py",
   "mimetype": "text/x-python",
   "name": "python",
   "nbconvert_exporter": "python",
   "pygments_lexer": "ipython3",
   "version": "3.11.5"
  }
 },
 "nbformat": 4,
 "nbformat_minor": 2
}

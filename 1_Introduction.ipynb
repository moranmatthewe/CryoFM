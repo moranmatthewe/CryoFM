{
 "cells": [
  {
   "attachments": {},
   "cell_type": "markdown",
   "id": "faf8a47d-6041-40cd-8a5c-626c484844e9",
   "metadata": {
    "tags": []
   },
   "source": [
    "# Introduction"
   ]
  },
  {
   "attachments": {},
   "cell_type": "markdown",
   "id": "6cc23388",
   "metadata": {},
   "source": [
    "## Overview"
   ]
  },
  {
   "attachments": {},
   "cell_type": "markdown",
   "id": "3174864b",
   "metadata": {},
   "source": [
    "### Open Source License"
   ]
  },
  {
   "attachments": {},
   "cell_type": "markdown",
   "id": "06e8bb75",
   "metadata": {
    "tags": []
   },
   "source": [
    "Copyright 2023 Moran Innovation LLC\n",
    "\n",
    "   Licensed under the Apache License, Version 2.0 (the \"License\");\n",
    "   you may not use this file except in compliance with the License.\n",
    "   You may obtain a copy of the License at http://www.apache.org/licenses/LICENSE-2.0\n",
    "\n",
    "   Unless required by applicable law or agreed to in writing, software\n",
    "   distributed under the License is distributed on an \"AS IS\" BASIS,\n",
    "   WITHOUT WARRANTIES OR CONDITIONS OF ANY KIND, either express or implied.\n",
    "   See the License for the specific language governing permissions and\n",
    "   limitations under the License.\n",
    "\n",
    "CryoFM™ is a trademark of Moran Innovation LLC. All rights reserved."
   ]
  },
  {
   "attachments": {},
   "cell_type": "markdown",
   "id": "99589ad3",
   "metadata": {},
   "source": [
    "### Usage Notes"
   ]
  },
  {
   "attachments": {},
   "cell_type": "markdown",
   "id": "c94c7a16-d340-4292-ba53-bb48eaa4092a",
   "metadata": {
    "tags": []
   },
   "source": [
    "**HOW TO USE THIS INTERACTIVE NOTEBOOK:**\n",
    "* Use the table of contents icon and sidebar at the left to navigate to the topics of interest.\n",
    "* Change any of the input values and run the associated cell code.\n",
    "* If an interactive Binder web browser session is being used, the original file will not be altered. Therefore, if you wish to retain any modifications you make, save your file to local memory on your device.\n",
    "\n",
    "**CAUTION:** None of the code cells run automatically. The user must manually run selected code cells in sequence to achieve the desired results. Default units are SI.\n",
    "\n",
    "**REFERENCE REPORT AND TRAINING:** The reference report for this interactive notebook is \"Cryogenic fluid management of liquid hydrogen, oxygen, and methane: Part 1 - passive technologies, systems, and operations\",  Moran Innovation LLC, 2023. An online version of the report and training videos based on the content can be found here: https://sites.google.com/view/matthewemoran/training#h.ir8xm9d8wn6h."
   ]
  },
  {
   "attachments": {},
   "cell_type": "markdown",
   "id": "3f018133-90cd-441b-abf6-6c71f4ba3088",
   "metadata": {},
   "source": [
    "### CryoFM"
   ]
  },
  {
   "attachments": {},
   "cell_type": "markdown",
   "id": "9af96881",
   "metadata": {},
   "source": [
    "CryoFM is a library of functions useful for cryogenic fluid management. To access CryoFM from this notebook, use the `import CryoFM` command. Use the `dir(CryoFM)` command to get a list of the library functions. For help on a particular function, use the `help(CryoFM.function)` command. Note that help can also be used for the entire CryoFM library but results in a very long text output."
   ]
  },
  {
   "cell_type": "code",
   "execution_count": 1,
   "id": "bb9f7765",
   "metadata": {},
   "outputs": [
    {
     "name": "stdout",
     "output_type": "stream",
     "text": [
      "Help on function reynolds in module CryoFM:\n",
      "\n",
      "reynolds(velocity, dim_char, density, visc_dyn)\n",
      "    Reynolds number (ratio of inertia to viscous forces in a flowing fluid)\n",
      "    \n",
      "    Keyword arguments:\n",
      "    velocity -- fluid velocity, m/s\n",
      "    dim_char -- characteristic dimension, m\n",
      "                distance from leading edge for external flow, or\n",
      "                hydraulic diameter for internal flow (4*area/wetted perimeter)\n",
      "    density -- fluid density, kg/m^3\n",
      "    visc_dyn -- dynamic viscosity, Pa-s\n",
      "\n"
     ]
    }
   ],
   "source": [
    "import CryoFM\n",
    "\n",
    "help(CryoFM.reynolds)"
   ]
  },
  {
   "attachments": {},
   "cell_type": "markdown",
   "id": "604b821a",
   "metadata": {},
   "source": [
    "CryoFM functions are invoked using `CryoFM.function(arguments)`. The arguments can be passed in order, or using the argument keywords in any order. An example:"
   ]
  },
  {
   "cell_type": "code",
   "execution_count": 6,
   "id": "61acef74-11e7-4ab7-b56f-adaae3d7d71b",
   "metadata": {},
   "outputs": [
    {
     "name": "stdout",
     "output_type": "stream",
     "text": [
      "Reynolds number = 6.75268e+06\n"
     ]
    }
   ],
   "source": [
    "import CryoFM\n",
    "\n",
    "reynolds = CryoFM.reynolds(velocity=10, dim_char=0.1, density=1106.63, \n",
    "                           visc_dyn=1.6388e-4)\n",
    "print(\"Reynolds number =\", \"{:.5e}\".format(reynolds))"
   ]
  },
  {
   "attachments": {},
   "cell_type": "markdown",
   "id": "6c54c5c7-74dd-4ebc-a08d-f349a352cb95",
   "metadata": {},
   "source": [
    "## Fluid Properties"
   ]
  },
  {
   "attachments": {},
   "cell_type": "markdown",
   "id": "a7c94f8c-8feb-463d-836a-d9bf9866a956",
   "metadata": {
    "tags": []
   },
   "source": [
    "### CoolProp Lists"
   ]
  },
  {
   "attachments": {},
   "cell_type": "markdown",
   "id": "da061952",
   "metadata": {},
   "source": [
    "The open source CoolProp software is used in CryoFM for fluid properties evaluation. All units are SI. Details on the fluids and properties supported by CoolProp can be found at the links below.\n",
    "\n",
    "* Fluids list: http://coolprop.org/fluid_properties/PurePseudoPure.html#list-of-fluids\n",
    "\n",
    "* Properties list: http://www.coolprop.org/coolprop/HighLevelAPI.html#table-of-string-inputs-to-propssi-function"
   ]
  },
  {
   "attachments": {},
   "cell_type": "markdown",
   "id": "5fe5d9ac-3743-46d2-94b4-d5f24b09b906",
   "metadata": {},
   "source": [
    "First use the `import CoolProp.CoolProp as cp` command. Fluid properties can then be evaluated using `cp.PropsSI(arguments)` where the arguments in order are:\n",
    "* property name\n",
    "* first state point name\n",
    "* first state point value\n",
    "* second state point name\n",
    "* second state point value\n",
    "* fluid name\n",
    "\n",
    "The phase can also be provided using `cp.PhaseSI(arguments)` where the arguments in order are:\n",
    "* first state point name\n",
    "* first state point value\n",
    "* second state point name\n",
    "* second state point value\n",
    "* fluid name\n",
    "\n",
    "Note that CoolProp does not provide transport properties for some fluids (e.g., viscosity, conductivity, etc.)"
   ]
  },
  {
   "attachments": {},
   "cell_type": "markdown",
   "id": "82e36e27-6ac7-46df-953b-7fa98aab209e",
   "metadata": {},
   "source": [
    "### Saturation Conditions"
   ]
  },
  {
   "attachments": {},
   "cell_type": "markdown",
   "id": "7eded769",
   "metadata": {},
   "source": [
    "Some saturated properties evaluated using CoolProp calls are shown below for reference."
   ]
  },
  {
   "cell_type": "code",
   "execution_count": 7,
   "id": "b32441d9-7e2d-43f4-a7ec-012eedd5f02c",
   "metadata": {},
   "outputs": [
    {
     "name": "stdout",
     "output_type": "stream",
     "text": [
      "{'temp_sat': 97.23553533356629, 'density_liquid': 1105.401189711224, 'density_vapor': 8.354467802255993, 'enthalpy_liq': -121260.08808900896, 'enthalpy_vap': 84481.32335583193, 'latent_heat': 205741.4114448409, 'surf_tension': 0.011405531150268775}\n"
     ]
    }
   ],
   "source": [
    "import CoolProp.CoolProp as cp # for evaluating fluid thermophysical properties\n",
    "\n",
    "# Saturation condition\n",
    "fluid = 'Oxygen' # http://www.coolprop.org/fluid_properties/PurePseudoPure.html\n",
    "pressure = 2e5   # Pa, pressure\n",
    "\n",
    "# Properties\n",
    "density_liquid = cp.PropsSI('D', 'P', pressure, 'Q', 0, fluid) # kg/m^3 \n",
    "density_vapor = cp.PropsSI('D', 'P', pressure, 'Q', 1, fluid) # kg/m^3\n",
    "enthalpy_liq = cp.PropsSI('H', 'P', pressure, 'Q', 0, fluid) # J/kg\n",
    "enthalpy_vap = cp.PropsSI('H', 'P', pressure, 'Q', 1, fluid) # J/kg\n",
    "latent_heat = enthalpy_vap - enthalpy_liq # J/kg\n",
    "surf_tens = cp.PropsSI('surface_tension', 'P', pressure, 'Q', 0, fluid) # N/m\n",
    "temp_sat = cp.PropsSI('T', 'P', pressure, 'Q', 0, fluid) # K\n",
    "\n",
    "# Results\n",
    "results = {\"temp_sat\": temp_sat, \"density_liquid\": density_liquid, \n",
    "           \"density_vapor\": density_vapor, \"enthalpy_liq\": enthalpy_liq, \n",
    "           \"enthalpy_vap\": enthalpy_vap, \"latent_heat\": latent_heat, \n",
    "           \"surf_tension\": surf_tens,}\n",
    "print(results)"
   ]
  },
  {
   "attachments": {},
   "cell_type": "markdown",
   "id": "b72d4aa6-1e80-4ee4-91d5-8f03f6b27f12",
   "metadata": {
    "tags": []
   },
   "source": [
    "### Specific State Points"
   ]
  },
  {
   "attachments": {},
   "cell_type": "markdown",
   "id": "be82d6d5",
   "metadata": {},
   "source": [
    "Some state point properties evaluated using CoolProp calls are shown below for reference."
   ]
  },
  {
   "cell_type": "code",
   "execution_count": 6,
   "id": "6e8d200a-fe2d-4e44-898d-271dc3519073",
   "metadata": {},
   "outputs": [
    {
     "name": "stdout",
     "output_type": "stream",
     "text": [
      "{'phase': 'liquid', 'density': 1106.6351294355363, 'dynamic viscosity': 0.0001638895690225786, 'kinematic viscosity': 1.4809720445633612e-07, 'prandtl': 2.004098847592044, 'coeff of thermal expansion': 0.004729499220534265}\n"
     ]
    }
   ],
   "source": [
    "import CoolProp.CoolProp as cp # for evaluating fluid thermophysical properties\n",
    "\n",
    "# State points\n",
    "fluid = 'Oxygen' # http://www.coolprop.org/fluid_properties/PurePseudoPure.html\n",
    "temp = 97        # K, temperature\n",
    "pressure = 2e5   # Pa, pressure\n",
    "\n",
    "# Properties\n",
    "cond = cp.PropsSI('conductivity', 'T', temp, 'P', pressure, fluid) # W/m-K\n",
    "density = cp.PropsSI('D', 'T', temp, 'P', pressure, fluid)  # kg/m^3\n",
    "phase = cp.PhaseSI('T', temp, 'P', pressure, fluid)  # based on state points\n",
    "prandtl = cp.PropsSI('Prandtl', 'T', temp, 'P', pressure, fluid)  # Prandtl no.\n",
    "visc_dynamic = cp.PropsSI('V', 'T', temp, 'P', pressure, fluid)  # Pa-s\n",
    "visc_kinematic = visc_dynamic/density  # m^2/s\n",
    "cte = cp.PropsSI('isobaric_expansion_coefficient', 'T', temp, 'P', pressure, \n",
    "                 fluid)  # 1/K\n",
    "\n",
    "# Results\n",
    "results = {\"phase\": phase, \"density\": density, \"dynamic viscosity\":\n",
    "           visc_dynamic, \"kinematic viscosity\": visc_kinematic, \"prandtl\":\n",
    "           prandtl, \"coeff of thermal expansion\": cte}\n",
    "print(results)"
   ]
  },
  {
   "attachments": {},
   "cell_type": "markdown",
   "id": "5e8e1635",
   "metadata": {
    "tags": []
   },
   "source": [
    "## Dimensionless Numbers"
   ]
  },
  {
   "attachments": {},
   "cell_type": "markdown",
   "id": "953679ce",
   "metadata": {},
   "source": [
    "Dimensionless numbers are used for heat transfer and fluid dynamic analysis. Here are the dimensionless numbers available from the CryoFM library:"
   ]
  },
  {
   "attachments": {},
   "cell_type": "markdown",
   "id": "cd43bbaf",
   "metadata": {
    "tags": []
   },
   "source": [
    "### Reynolds Number"
   ]
  },
  {
   "attachments": {},
   "cell_type": "markdown",
   "id": "b501f64b",
   "metadata": {},
   "source": [
    "The Reynolds number (Re) is the ratio of inertia to viscous forces in a flowing fluid, and is given by:\n",
    "\n",
    "$$\n",
    "Re=\\frac{uL}{υ}=\\frac{ρuL}{μ}\n",
    "$$\n",
    "\n",
    "Where (u) is flow speed, (L) is characteristic length, (υ) is kinematic viscosity, (ρ) is fluid density, and (μ) is dynamic viscosity. The characteristic length for internal flow is hydraulic diameter and is defined as four times the crossectional area divided by the perimeter (equivalent to the diameter for a round pipe). Subscripts applied to Re indicate internal flow based on hydraulic diameter (D) or external flow at a distance (x) from the leading edge.\n",
    "\n",
    "Reynolds number characterizes flow regimes in internal or external flow configurations and is useful for: determining the onset of turbulence; calculating pressure drop in piping; and dynamic similitude scaling for prototype tests. The flow regimes are:\n",
    "* Laminar (approximately ReD < 2300 for pipe flow)\n",
    "* Transitional (approximately 2300 < ReD < 2900 for pipe flow)\n",
    "* Turbulent (approximately ReD > 2900 for pipe flow; Rex > 500,000 for flow over flat plate)\n",
    "\n"
   ]
  },
  {
   "cell_type": "code",
   "execution_count": 9,
   "id": "650722d0",
   "metadata": {},
   "outputs": [
    {
     "name": "stdout",
     "output_type": "stream",
     "text": [
      "Reynolds number = 6.75232e+06\n"
     ]
    }
   ],
   "source": [
    "import CoolProp.CoolProp as cp\n",
    "import CryoFM\n",
    "\n",
    "# Inputs\n",
    "length = 0.1     # m, characteristic length or hydraulic diameter (4*A/Pwetted)\n",
    "velocity = 10    # m/s, fluid velocity\n",
    "temp = 97        # K, bulk fluid temperature\n",
    "press = 2e5      # Pa, dynamic pressure\n",
    "fluid = 'Oxygen' # http://www.coolprop.org/fluid_properties/PurePseudoPure.html\n",
    "\n",
    "# Fluid properties\n",
    "dens = cp.PropsSI('D', 'T', temp, 'P', press, fluid)  # kg/m^3\n",
    "visc_dyn = cp.PropsSI('V', 'T', temp, 'P', press, fluid)  # Pa-s\n",
    "\n",
    "# Reynolds number\n",
    "reynolds = CryoFM.reynolds(velocity, length, dens, visc_dyn)\n",
    "print(\"Reynolds number =\", \"{:.5e}\".format(reynolds))"
   ]
  },
  {
   "attachments": {},
   "cell_type": "markdown",
   "id": "38c2ef09-3c46-4a50-873b-4fdd92db5213",
   "metadata": {
    "tags": []
   },
   "source": [
    "### Bond Number"
   ]
  },
  {
   "attachments": {},
   "cell_type": "markdown",
   "id": "f29fc3a5-984e-4d6e-b5a4-704c0c9acaa7",
   "metadata": {},
   "source": [
    "The Bond number (Bo) is the ratio of acceleration to capillary forces and is given by:\n",
    "\n",
    "$$\n",
    "Bo=\\frac{(ρ_l-ρ_v) \\bar{a} {L}^2}{σ}\n",
    "$$\n",
    "\n",
    "Where $(ρ_l-ρ_v )$ is the density difference between the liquid and vapor phases, $(\\bar{a})$ is the local acceleration, $(L)$ is the characteristic dimension (e.g. liquid free surface radius), and (σ) is surface tension. Bond number provides characterization of the fluid free surface shape and can be used to calculate the propulsive force needed to settle the fluid in a reduced gravity environment."
   ]
  },
  {
   "cell_type": "code",
   "execution_count": 10,
   "id": "8eb622a8",
   "metadata": {},
   "outputs": [
    {
     "name": "stdout",
     "output_type": "stream",
     "text": [
      "Bond number = 10.3\n"
     ]
    }
   ],
   "source": [
    "import CoolProp.CoolProp as cp\n",
    "import CryoFM\n",
    "\n",
    "# Inputs\n",
    "accel = 9.81e-6  # m/s^2, local acceleration at the interface\n",
    "radius_fs = 3.3    # m, free surface radius at the interface\n",
    "press = 2e5      # Pa, saturation pressure at the interface\n",
    "fluid = 'Oxygen' # http://www.coolprop.org/fluid_properties/PurePseudoPure.html\n",
    "\n",
    "# Fluid properties\n",
    "dens_liq = cp.PropsSI('D', 'P', press, 'Q', 0, fluid)  # kg/m^3\n",
    "dens_vap = cp.PropsSI('D', 'P', press, 'Q', 1, fluid)  # kg/m^3\n",
    "surf_tens = cp.PropsSI('surface_tension', 'P', press, 'Q', 0, fluid)  # N/m\n",
    "\n",
    "# Bond number\n",
    "bond = CryoFM.bond(accel, radius_fs, dens_liq, dens_vap, surf_tens)\n",
    "print(\"Bond number =\", round(bond,1))"
   ]
  },
  {
   "attachments": {},
   "cell_type": "markdown",
   "id": "d76a3770",
   "metadata": {},
   "source": [
    "### Prandtl Number"
   ]
  },
  {
   "attachments": {},
   "cell_type": "markdown",
   "id": "ce6f98ea-c0f5-425a-8f48-542898d90dde",
   "metadata": {},
   "source": [
    "The Prandtl number (Pr) is the ratio of momentum diffusivity to thermal diffusivity and is equal to the specific heat capacity times the dynamic viscosity divided by the thermal conductivity. It can also be evaluated directly as a fluid property as shown below."
   ]
  },
  {
   "cell_type": "code",
   "execution_count": 11,
   "id": "81b608ab",
   "metadata": {},
   "outputs": [
    {
     "name": "stdout",
     "output_type": "stream",
     "text": [
      "Prandtl number = 0.83\n"
     ]
    }
   ],
   "source": [
    "import CoolProp.CoolProp as cp\n",
    "\n",
    "# Inputs\n",
    "temp = 97.24     # K, bulk fluid temperature\n",
    "press = 2e5      # Pa, dynamic pressure\n",
    "fluid = 'Oxygen' # http://www.coolprop.org/fluid_properties/PurePseudoPure.html\n",
    "\n",
    "# Prandtl number\n",
    "prandtl = cp.PropsSI('Prandtl', 'T', temp, 'P', press, fluid)\n",
    "print(\"Prandtl number =\", round(prandtl,2))"
   ]
  },
  {
   "attachments": {},
   "cell_type": "markdown",
   "id": "5268a10c",
   "metadata": {},
   "source": [
    "### Grashof Number"
   ]
  },
  {
   "attachments": {},
   "cell_type": "markdown",
   "id": "06c66301-88c7-4021-be43-67fe47130ed6",
   "metadata": {},
   "source": [
    "The Grashof number (Gr) is the ratio of the buoyancy to viscous force acting on a fluid. It is given by:\n",
    "\n",
    "$$\n",
    "Gr=\\frac{gβ|T_s-T_∞|D^3}{v^2}\n",
    "$$\n",
    "\n",
    "Temperature-dependent fluid properties for calculating Gr are thermal expansion coefficient (β) and kinematic viscosity (v).\n"
   ]
  },
  {
   "cell_type": "code",
   "execution_count": 12,
   "id": "d8455475",
   "metadata": {},
   "outputs": [
    {
     "name": "stdout",
     "output_type": "stream",
     "text": [
      "Grashof number = 7.59314e+09\n"
     ]
    }
   ],
   "source": [
    "import CoolProp.CoolProp as cp\n",
    "import CryoFM\n",
    "\n",
    "# Inputs\n",
    "accel = 9.81e-6   # m/s^2, local acceleration\n",
    "temp_surf = 55    # K, surface temperature\n",
    "temp_bulk = 97.24 # K, bulk fluid temperature\n",
    "dim_char = 6.6   # m, characteristic length or hydraulic diameter (4*A/Pwetted)\n",
    "press = 2e5      # Pa, dynamic pressure\n",
    "fluid = 'Oxygen' # http://www.coolprop.org/fluid_properties/PurePseudoPure.html\n",
    "\n",
    "# Fluid properties\n",
    "temp_avg = (temp_surf + temp_bulk)/2\n",
    "cte = cp.PropsSI('isobaric_expansion_coefficient', 'T', temp_avg, 'P', press, \n",
    "                 fluid) # 1/K\n",
    "visc_dyn = cp.PropsSI('V', 'T', temp_avg, 'P', press, fluid)  # Pa-s\n",
    "dens = cp.PropsSI('D', 'T', temp_avg, 'P', press, fluid)  # kg/m^3\n",
    "visc_kin = visc_dyn / dens # kg/m^3\n",
    "\n",
    "# Grashof number\n",
    "grashof = CryoFM.grashof(accel, cte, temp_surf, temp_bulk, dim_char, visc_kin)\n",
    "print(\"Grashof number =\", \"{:.5e}\".format(grashof))"
   ]
  },
  {
   "attachments": {},
   "cell_type": "markdown",
   "id": "2a76f320-2e88-4f42-8f6e-256d3d8dfc1b",
   "metadata": {},
   "source": [
    "### Raleigh Number"
   ]
  },
  {
   "attachments": {},
   "cell_type": "markdown",
   "id": "0c7f0a5e-24e1-4e6a-97af-11df0588f8c2",
   "metadata": {},
   "source": [
    "The Raleigh number (Ra) is the ratio of the time scale for diffusive thermal transport to the time scale for convective thermal transport. It is used to characterize the regime of buoyancy-driven convection flow, and is defined as:\n",
    "\n",
    "$$\n",
    "Ra=Gr∙Pr=\\frac{gβ|T_s-T_∞ | D^3}{να}\n",
    "$$\n",
    "\n",
    "Temperature-dependent fluid properties for calculating Ra are thermal expansion coefficient (β), kinematic viscosity (ν), and thermal diffusivity (α). The magnitude of Ra varies proportionally with the driving temperature differential (Ts - T∞), g-level (g), and the cube of the characteristic length (D). High values of Ra correspond to turbulent convection flow; low values indicate stagnant flow (conduction dominant); and intermediate values are in the laminar regime."
   ]
  },
  {
   "cell_type": "code",
   "execution_count": 13,
   "id": "6c41b708",
   "metadata": {},
   "outputs": [
    {
     "name": "stdout",
     "output_type": "stream",
     "text": [
      "Raleigh number = 2.21533e+10\n"
     ]
    }
   ],
   "source": [
    "import CoolProp.CoolProp as cp\n",
    "import CryoFM\n",
    "\n",
    "# Inputs\n",
    "accel = 9.81e-6   # m/s^2, local acceleration\n",
    "temp_surf = 55    # K, surface temperature\n",
    "temp_bulk = 97.24 # K, bulk fluid temperature\n",
    "dim_char = 6.6   # m, characteristic length or hydraulic diameter (4*A/Pwetted)\n",
    "press = 2e5      # Pa, dynamic pressure\n",
    "fluid = 'Oxygen' # http://www.coolprop.org/fluid_properties/PurePseudoPure.html\n",
    "\n",
    "# Fluid properties\n",
    "temp_avg = (temp_surf + temp_bulk)/2 # K, mean temperature of surface and bulk\n",
    "cte = cp.PropsSI('isobaric_expansion_coefficient', 'T', temp_avg, 'P', press, \n",
    "                 fluid) # 1/K\n",
    "visc_dyn = cp.PropsSI('V', 'T', temp_avg, 'P', press, fluid)  # Pa-s\n",
    "dens = cp.PropsSI('D', 'T', temp_avg, 'P', press, fluid)  # kg/m^3\n",
    "visc_kin = visc_dyn / dens # kg/m^3\n",
    "prandtl = cp.PropsSI('Prandtl', 'T', temp_avg, 'P', press, fluid)\n",
    "\n",
    "# Raleigh number\n",
    "grashof = CryoFM.grashof(accel, cte, temp_surf, temp_bulk, dim_char, visc_kin)\n",
    "raleigh = grashof * prandtl\n",
    "print(\"Raleigh number =\", \"{:.5e}\".format(raleigh))"
   ]
  },
  {
   "attachments": {},
   "cell_type": "markdown",
   "id": "908fef06-7d79-461e-b4b9-8026ba677992",
   "metadata": {},
   "source": [
    "### Nusselt Number"
   ]
  },
  {
   "attachments": {},
   "cell_type": "markdown",
   "id": "2a868fb7-4a42-49b8-b557-fadca3a06853",
   "metadata": {},
   "source": [
    "The convective heat transfer coefficient (h) can be found from empirically derived correlations for the Nusselt number (Nu) that are a function of the Raleigh number. For natural convection, these correlations generally take the form:\n",
    "\n",
    "$$\n",
    "Nu=\\frac{hL}{k}=C(Ra)^x\n",
    "$$\n",
    "\n",
    "Where (h) is the convective heat transfer coefficient, (L) is the characteristic length, (k) is the fluid thermal conductivity, and (C) and (x) are empirically fitted coefficients that are correlated to specific geometries and conditions."
   ]
  },
  {
   "cell_type": "code",
   "execution_count": 14,
   "id": "669fa663",
   "metadata": {},
   "outputs": [
    {
     "name": "stdout",
     "output_type": "stream",
     "text": [
      "Nusselt number = 172.3 , heat transfer coefficient = 4.47 W/m^2-K\n"
     ]
    }
   ],
   "source": [
    "import CoolProp.CoolProp as cp\n",
    "\n",
    "# Nusselt number correlations have been developed for a variety of conditions\n",
    "# A correlation for natural convection within a sphere in low gravity is used\n",
    "# as an example here: Nu = C(Ra)^x = hL/k (Ref: Mattor, et al., AIAA 92-0603)\n",
    "\n",
    "# Inputs \n",
    "L = 6.6    # m, internal diameter of the sphere\n",
    "C = 1.158     # emperically derived coefficient C\n",
    "x = 0.210     # emperically derived coefficient x\n",
    "Ra = 2.215e10 # Raleigh number\n",
    "temp = 76.12  # K, mean temperature of surface and bulk\n",
    "press = 2e5   # Pa, pressure\n",
    "fluid = 'Oxygen' # http://www.coolprop.org/fluid_properties/PurePseudoPure.html\n",
    "\n",
    "# Fluid properties\n",
    "cond = cp.PropsSI('conductivity', 'T', temp, 'P', press, fluid) # W/m-K\n",
    "\n",
    "# Nusselt number and convective heat transfer coefficient\n",
    "nusselt = C * Ra**x\n",
    "ht_coeff = nusselt * cond / L\n",
    "print(\"Nusselt number =\", round(nusselt,1), \", heat transfer coefficient =\", \n",
    "      round(ht_coeff, 2), \"W/m^2-K\")"
   ]
  },
  {
   "attachments": {},
   "cell_type": "markdown",
   "id": "86c32b62",
   "metadata": {
    "tags": []
   },
   "source": [
    "## Calculation Examples"
   ]
  },
  {
   "attachments": {},
   "cell_type": "markdown",
   "id": "8c65c8cf-f7ce-4918-9af3-1a84c92b0fa8",
   "metadata": {},
   "source": [
    "### Vaporization Rate"
   ]
  },
  {
   "attachments": {},
   "cell_type": "markdown",
   "id": "01edefaa",
   "metadata": {},
   "source": [
    "**Vaporization rate as a function of heat load for a vented tank**\n",
    "\n",
    "Consider a spherical liquid oxygen tank in low earth orbit that has a diameter of 6.6 m. It is venting at a constant controlled tank pressure of 2 bar and experiencing an acceleration field of 10e-6 g (or 9.81e-6 m/s^2). Assuming the bulk liquid is saturated at the tank pressure condition, determine the appropriate thermophysical properties. What is the\n",
    "vaporization rate per watt of heat leak if the tank is continuously venting at 2 bar?"
   ]
  },
  {
   "cell_type": "code",
   "execution_count": 15,
   "id": "87e3d4e0",
   "metadata": {},
   "outputs": [
    {
     "name": "stdout",
     "output_type": "stream",
     "text": [
      "Vaporization rate = 17.5 kg/hr\n"
     ]
    }
   ],
   "source": [
    "import CoolProp.CoolProp as cp\n",
    "\n",
    "# Latent heat of vaporization\n",
    "enthalpy_liq = cp.PropsSI('H', 'P', 2e5, 'Q', 0, 'Oxygen') # J/kg\n",
    "enthalpy_vap = cp.PropsSI('H', 'P', 2e5, 'Q', 1, 'Oxygen') # J/kg\n",
    "latent_heat = enthalpy_vap - enthalpy_liq # J/kg\n",
    "\n",
    "# Vaporization rate per watt of heat leak\n",
    "vaporiz_rate = 1 / latent_heat * 1000 * 3600 # kg/hr\n",
    "print(\"Vaporization rate =\", round(vaporiz_rate,1), \"kg/hr\")"
   ]
  },
  {
   "attachments": {},
   "cell_type": "markdown",
   "id": "2bbb64a1-5a0b-485b-af06-1d28d5363ac2",
   "metadata": {},
   "source": [
    "### Interface Shape"
   ]
  },
  {
   "attachments": {},
   "cell_type": "markdown",
   "id": "65366b59-172c-4c9e-911c-7a2388417f3d",
   "metadata": {},
   "source": [
    "**Bond number, interface shape, and propellant settling in low earth orbit**\n",
    "\n",
    "For the tank, fluid and conditions described in the previous example, what is the Bond\n",
    "number if the tank is half full by volume? If the tank is at a higher fill level so that the free\n",
    "surface diameter is 0.6 m (assuming a flat interface), what is the Bond number? What\n",
    "interface shape would be expected under both these conditions? What are the CFM\n",
    "operational implications?"
   ]
  },
  {
   "cell_type": "code",
   "execution_count": 16,
   "id": "204205ab-8200-4143-bdca-7c80ce37b280",
   "metadata": {},
   "outputs": [
    {
     "name": "stdout",
     "output_type": "stream",
     "text": [
      "For free surface radius of 3.3 m, Bond number = 10.3\n",
      "For free surface radius of 0.3 m, Bond number = 0.1\n"
     ]
    }
   ],
   "source": [
    "import CoolProp.CoolProp as cp\n",
    "import CryoFM\n",
    "\n",
    "st = 'surface_tension'\n",
    "radius_fs = [3.3, 0.3]\n",
    "for x in radius_fs:\n",
    "    bond = CryoFM.bond(accel=9.81e-6, radius_fs = x, \n",
    "                    dens_liq=cp.PropsSI('D', 'P', 2e5, 'Q', 0, 'Oxygen'),\n",
    "                    dens_vap=cp.PropsSI('D', 'P', 2e5, 'Q', 1, 'Oxygen'),\n",
    "                    surf_tens=cp.PropsSI(st, 'P', 2e5, 'Q', 0, 'Oxygen'))\n",
    "    print(\"For free surface radius of\", x, \"m, Bond number =\", round(bond,1))"
   ]
  },
  {
   "attachments": {},
   "cell_type": "markdown",
   "id": "635c8fb3-e13e-4d41-a591-4a29f5d91f18",
   "metadata": {},
   "source": [
    "For a Bo of 0.1, the interface would be highly curved resulting in an ullage shape close to spherical. The higher Bo of 10 at the half full level would result in a much flatter interface. Note that if the tank were cylindrical with dome ends instead of spherical, Bo would be constant at any fill level where the interface is still within the cylindrical section (i.e. constant free surface diameter).\n",
    "\n",
    "A sufficiently high Bo is required to favorably position the liquid and ullage in the tank for certain CFM operations (e.g. engine feed, venting, pressurization, etc.). Propulsive settling may be required for these operations. Increasingly higher induced accelerations are required to maintain a constant Bo as the fill level increases above, or decreases below, the spherical tank midline."
   ]
  },
  {
   "attachments": {},
   "cell_type": "markdown",
   "id": "266babfd-caa8-4ba2-8e81-0a636cc58495",
   "metadata": {},
   "source": [
    "### Natural Convection in Reduced Gravity"
   ]
  },
  {
   "attachments": {},
   "cell_type": "markdown",
   "id": "2b33b230-7b03-4a92-af6b-ed68546cd657",
   "metadata": {},
   "source": [
    "**Rayleigh number, Nusselt number, and convective heat transfer coefficient in low earth orbit (LEO)**\n",
    "\n",
    "For the same tank and conditions at half full level: estimate the Rayleigh number, Nusselt number and corresponding convective heat transfer coefficient for the liquid oxygen in contact with a 6.6 m diameter wall at 55 K (with an internal foam insulated liquid hydrogen tank on the other side). How does this compare to heat transfer under the same conditions in normal gravity? What potential impact do these results have on CFM operations?"
   ]
  },
  {
   "cell_type": "code",
   "execution_count": 19,
   "id": "47963792-c214-40f7-9de5-916c7e7fd8b2",
   "metadata": {},
   "outputs": [
    {
     "name": "stdout",
     "output_type": "stream",
     "text": [
      "For acceleration = 9.81000e-06\n",
      "    Raleigh number = 2.21489e+10\n",
      "    Nusselt number = 172\n",
      "    heat transfer coeff = 4.47 W/m^2-K\n",
      "For acceleration = 9.81000e+00\n",
      "    Raleigh number = 2.21489e+16\n",
      "    Nusselt number = 3135\n",
      "    heat transfer coeff = 81.27 W/m^2-K\n"
     ]
    }
   ],
   "source": [
    "import CoolProp.CoolProp as cp\n",
    "import CryoFM\n",
    "\n",
    "# Fluid, tank diameter, pressure, and acceleration environments\n",
    "fluid = 'Oxygen'\n",
    "diam_tank = 6.6  # m\n",
    "pressure = 2.e5  # Pa\n",
    "accel = (9.81e-6, 9.81)  # m/s^2\n",
    "         \n",
    "# Temperatures of the wall, saturated LOx, and mean film\n",
    "temp_wall = 55.  # K\n",
    "temp_lox = cp.PropsSI('T','P', pressure, 'Q', 0, fluid)  # K\n",
    "temp_film = (temp_wall + temp_lox) / 2  # K\n",
    "\n",
    "# Evaluate thermophysical properties\n",
    "density = cp.PropsSI('D', 'T', temp_film, 'P', pressure, fluid)  # kg/m^3\n",
    "prandtl = cp.PropsSI('Prandtl', 'T', temp_film, 'P', pressure, fluid)\n",
    "cte = cp.PropsSI('isobaric_expansion_coefficient', 'T', temp_film, 'P', \n",
    "                 pressure, fluid)  # 1/K\n",
    "visc_dynamic = cp.PropsSI('V', 'T', temp_film, 'P', pressure, fluid)  # Pa-s\n",
    "visc_kin = visc_dynamic/density  # m^2/s\n",
    "cond = cp.PropsSI('conductivity', 'T', temp_film, 'P', pressure, fluid) # W/m-K\n",
    "\n",
    "# Calculate dimensionless numbers and film heat transfer coefficient\n",
    "for a in accel:\n",
    "    raleigh = prandtl * CryoFM.grashof(a, cte, temp_wall, temp_lox,\n",
    "                                    diam_tank, visc_kin)  # in microgravity\n",
    "    nusselt = 1.158 * (raleigh)**0.210\n",
    "    film_coeff = cond * nusselt / diam_tank\n",
    "    print(\"For acceleration =\", \"{:.5e}\".format(a)), \":\"\n",
    "    print(\"    Raleigh number =\", \"{:.5e}\".format(raleigh))\n",
    "    print(\"    Nusselt number =\", \"{:.0f}\".format(nusselt))\n",
    "    print(\"    heat transfer coeff =\", \"{:.2f}\".format(film_coeff), \"W/m^2-K\")"
   ]
  },
  {
   "attachments": {},
   "cell_type": "markdown",
   "id": "45f3d838-97c1-4b68-99a0-811867fbc077",
   "metadata": {},
   "source": [
    "Therefore, the convective heat transfer coefficient in LEO is only ~5% of the value in 1-g. Since the common bulkhead wall is at 55 K the oxygen cannot freeze given that oxygen’s triple point temperature is 54.36 K. However, it could be cooled to a saturation temperature that is well below one atmosphere. With the convection heat transfer coefficient so low in LEO, the time constant for this cooling process will be much longer than in normal gravity.\n",
    "\n",
    "Regarding CFM operations, cooling of the liquid oxygen could bring it below the engine start or run box requirements. Also, pressurization requirements will increase as the liquid oxygen cools. Ullage collapse could occur if the cooler liquid near the bulkhead circulates to the ullage interface drawing down the tank pressure to a new interface saturation condition. Depending on the ConOps, thicker foam insulation on the hydrogen side of the bulkhead may be warranted to mitigate some of these risks by increasing the wall temperature on the oxygen side."
   ]
  }
 ],
 "metadata": {
  "kernelspec": {
   "display_name": "Python 3 (ipykernel)",
   "language": "python",
   "name": "python3"
  },
  "language_info": {
   "codemirror_mode": {
    "name": "ipython",
    "version": 3
   },
   "file_extension": ".py",
   "mimetype": "text/x-python",
   "name": "python",
   "nbconvert_exporter": "python",
   "pygments_lexer": "ipython3",
   "version": "3.9.12"
  },
  "toc-autonumbering": false,
  "toc-showcode": false,
  "toc-showmarkdowntxt": false,
  "toc-showtags": false,
  "vscode": {
   "interpreter": {
    "hash": "439437af3587d30f29a2b254ec1c6707681b598e1f46b329955c64be4382d26e"
   }
  }
 },
 "nbformat": 4,
 "nbformat_minor": 5
}

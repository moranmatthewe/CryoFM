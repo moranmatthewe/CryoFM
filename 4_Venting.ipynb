{
 "cells": [
  {
   "cell_type": "markdown",
   "metadata": {},
   "source": [
    "# Venting"
   ]
  },
  {
   "cell_type": "markdown",
   "metadata": {},
   "source": [
    "## Overview"
   ]
  },
  {
   "cell_type": "markdown",
   "metadata": {},
   "source": [
    "Copyright 2024 Moran Innovation LLC\n",
    "\n",
    "   Licensed under the Apache License, Version 2.0 (the \"License\");\n",
    "   you may not use this file except in compliance with the License.\n",
    "   You may obtain a copy of the License at http://www.apache.org/licenses/LICENSE-2.0\n",
    "\n",
    "   Unless required by applicable law or agreed to in writing, software\n",
    "   distributed under the License is distributed on an \"AS IS\" BASIS,\n",
    "   WITHOUT WARRANTIES OR CONDITIONS OF ANY KIND, either express or implied.\n",
    "   See the License for the specific language governing permissions and\n",
    "   limitations under the License.\n",
    "\n",
    "CryoFM™ is a trademark of Moran Innovation LLC. All rights reserved."
   ]
  },
  {
   "cell_type": "markdown",
   "metadata": {},
   "source": [
    "### Usage Notes"
   ]
  },
  {
   "cell_type": "markdown",
   "metadata": {},
   "source": [
    "**HOW TO USE THIS INTERACTIVE NOTEBOOK:**\n",
    "* Use the table of contents icon and sidebar at the left to navigate to the topics of interest.\n",
    "* Change any of the input values and run the associated cell code.\n",
    "* If an interactive Binder web browser session is being used, the original file will not be altered. Therefore, if you wish to retain any modifications you make, save your file to local memory on your device.\n",
    "\n",
    "**CAUTION:** None of the code cells run automatically. The user must manually run selected code cells in sequence to achieve the desired results. Default units are SI.\n",
    "\n",
    "**REFERENCE REPORT AND TRAINING:** The reference report for this interactive notebook is \"Cryogenic fluid management of liquid hydrogen, oxygen, and methane: Part 1 - passive technologies, systems, and operations\",  Moran Innovation LLC, 2023. An online version of the report and training videos based on the content can be found here: https://sites.google.com/view/matthewemoran/training#h.ir8xm9d8wn6h."
   ]
  },
  {
   "cell_type": "markdown",
   "metadata": {},
   "source": [
    "## Vent Losses"
   ]
  },
  {
   "cell_type": "markdown",
   "metadata": {},
   "source": [
    "### Subcooled Venting"
   ]
  },
  {
   "cell_type": "markdown",
   "metadata": {},
   "source": [
    "Assumes vent time is short and environmental heating is low enough to ignore.\n",
    "Otherwise, liquid sensible heating from environment heat leak must be accounted for.\n",
    "Other assumptions: bulk liquid temperature is constant; interfacial mass transfer\n",
    "can be neglected; liquid phase can be treated as incompressible."
   ]
  },
  {
   "cell_type": "code",
   "execution_count": 10,
   "metadata": {},
   "outputs": [
    {
     "name": "stdout",
     "output_type": "stream",
     "text": [
      "Vented mass: 1.363e+02 kg\n"
     ]
    }
   ],
   "source": [
    "import sys\n",
    "import CoolProp.CoolProp as cp\n",
    "\n",
    "### INPUTS ###\n",
    "\n",
    "# Initial and final conditions\n",
    "fluid = 'Oxygen'\n",
    "mass_liq_init = 8.5606e4  # kg, initial liquid mass\n",
    "volume_tank = 1.505e2  # m^3, tank volume\n",
    "press_init = 3.0e5  # Pa, initial tank pressure\n",
    "temp_liq_init = 91.0  # K, initial bulk liquid temperature\n",
    "temp_vap_init = 250.0  # K, initial bulk ullage vapor temperature\n",
    "press_final = 1.5e5  # Pa, final tank pressure after venting\n",
    "\n",
    "# Fluid properties\n",
    "dens_liq_init = cp.PropsSI('D', 'P', press_init, 'T', temp_liq_init, fluid)\n",
    "dens_vap_init = cp.PropsSI('D', 'P', press_init, 'T', temp_vap_init, fluid)\n",
    "temp_sat_final = cp.PropsSI('T', 'P', press_final, 'Q', 0, fluid)\n",
    "press_sat_liq = cp.PropsSI('P', 'T', temp_liq_init, 'Q', 0, fluid)\n",
    "if fluid == 'Parahydrogen' or fluid == 'Hydrogen':\n",
    "    spheat_ratio = 1.41\n",
    "elif fluid == 'Oxygen':\n",
    "    spheat_ratio = 1.40\n",
    "elif fluid == 'Methane':\n",
    "    spheat_ratio = 1.32\n",
    "else:\n",
    "    print(\"Supported fluids are parahydrogen, hydrogen, oxygen, or methane\")\n",
    "\n",
    "### OUTPUTS ###\n",
    "\n",
    "# Check for subcooled vs saturated venting\n",
    "if temp_sat_final < temp_liq_init:\n",
    "    print(\"Venting is subcooled only to\", \"{:.3e}\".format(press_sat_liq), \"Pa\")\n",
    "    print(\"Adjust the inputs for the subcooled venting pressure range\")\n",
    "    print(\"and use saturated venting algorithm for remaining pressure range\")\n",
    "    sys.exit(\"The liquid is not subcooled through the entire venting process\")\n",
    "\n",
    "# Volumetric fill level (initial)\n",
    "fill_init = mass_liq_init / volume_tank / dens_liq_init\n",
    "\n",
    "# Ullage vapor mass (initial; single constituent ullage)\n",
    "mass_vap_init = dens_vap_init * volume_tank * (1. - fill_init)\n",
    "\n",
    "# Final ullage temperature based on adiabatic (polytropic) expansion\n",
    "temp_vap_final = temp_vap_init * (press_final / press_init)**((spheat_ratio - 1)\n",
    "                                                             /spheat_ratio)\n",
    "\n",
    "# Final ullage mass\n",
    "dens_vap_final = cp.PropsSI('D', 'P', press_final, 'T', temp_vap_final, fluid)\n",
    "mass_vap_final = dens_vap_final * volume_tank * (1 - fill_init)\n",
    "\n",
    "# Mass vented\n",
    "mass_vented = mass_vap_init - mass_vap_final\n",
    "print(\"Vented mass:\",\"{:.3e}\".format(mass_vented), \"kg\")\n"
   ]
  },
  {
   "cell_type": "markdown",
   "metadata": {},
   "source": []
  }
 ],
 "metadata": {
  "kernelspec": {
   "display_name": "base",
   "language": "python",
   "name": "python3"
  },
  "language_info": {
   "codemirror_mode": {
    "name": "ipython",
    "version": 3
   },
   "file_extension": ".py",
   "mimetype": "text/x-python",
   "name": "python",
   "nbconvert_exporter": "python",
   "pygments_lexer": "ipython3",
   "version": "3.11.5"
  }
 },
 "nbformat": 4,
 "nbformat_minor": 2
}

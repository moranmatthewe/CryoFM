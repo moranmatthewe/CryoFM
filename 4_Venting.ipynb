{
 "cells": [
  {
   "cell_type": "markdown",
   "metadata": {},
   "source": [
    "# Venting"
   ]
  },
  {
   "cell_type": "markdown",
   "metadata": {},
   "source": [
    "## Overview"
   ]
  },
  {
   "cell_type": "markdown",
   "metadata": {},
   "source": [
    "Copyright 2024 Moran Innovation LLC\n",
    "\n",
    "   Licensed under the Apache License, Version 2.0 (the \"License\");\n",
    "   you may not use this file except in compliance with the License.\n",
    "   You may obtain a copy of the License at http://www.apache.org/licenses/LICENSE-2.0\n",
    "\n",
    "   Unless required by applicable law or agreed to in writing, software\n",
    "   distributed under the License is distributed on an \"AS IS\" BASIS,\n",
    "   WITHOUT WARRANTIES OR CONDITIONS OF ANY KIND, either express or implied.\n",
    "   See the License for the specific language governing permissions and\n",
    "   limitations under the License.\n",
    "\n",
    "CryoFM™ is a trademark of Moran Innovation LLC. All rights reserved."
   ]
  },
  {
   "cell_type": "markdown",
   "metadata": {},
   "source": [
    "### Usage Notes"
   ]
  },
  {
   "cell_type": "markdown",
   "metadata": {},
   "source": [
    "**HOW TO USE THIS INTERACTIVE NOTEBOOK:**\n",
    "* Use the table of contents icon and sidebar at the left to navigate to the topics of interest.\n",
    "* Change any of the input values and run the associated cell code.\n",
    "* If an interactive Binder web browser session is being used, the original file will not be altered. Therefore, if you wish to retain any modifications you make, save your file to local memory on your device.\n",
    "\n",
    "**CAUTION:** None of the code cells run automatically. The user must manually run selected code cells in sequence to achieve the desired results. Default units are SI.\n",
    "\n",
    "**REFERENCE REPORT AND TRAINING:** The reference report for this interactive notebook is \"Cryogenic fluid management of liquid hydrogen, oxygen, and methane: Part 1 - passive technologies, systems, and operations\",  Moran Innovation LLC, 2023. An online version of the report and training videos based on the content can be found here: https://sites.google.com/view/matthewemoran/training#h.ir8xm9d8wn6h."
   ]
  },
  {
   "cell_type": "markdown",
   "metadata": {},
   "source": [
    "## Vent Losses"
   ]
  },
  {
   "cell_type": "markdown",
   "metadata": {},
   "source": [
    "### Initial Conditions"
   ]
  },
  {
   "cell_type": "code",
   "execution_count": 6,
   "metadata": {},
   "outputs": [
    {
     "name": "stdout",
     "output_type": "stream",
     "text": [
      "Initial fill level: 50.00 %\n",
      "Initial ullage vapor mass: 3.490e+02 kg\n"
     ]
    }
   ],
   "source": [
    "import CoolProp.CoolProp as cp\n",
    "\n",
    "# INPUTS\n",
    "\n",
    "# Initial conditions\n",
    "fluid = 'Oxygen'\n",
    "mass_liq_init = 8.210e4  # kg, initial liquid mass\n",
    "volume_tank = 1.505e2  # m^3, tank volume\n",
    "press_init = 3.0e5  # Pa, initial tank pressure\n",
    "temp_liq_init = 100.0  # K, initial bulk liquid temperature\n",
    "temp_vap_init = 250.0  # K, initial bulk ullage vapor temperature \n",
    "\n",
    "# FLUID PROPERTIES\n",
    "\n",
    "dens_liq_init = cp.PropsSI('D', 'P', press_init, 'T', temp_liq_init, fluid)\n",
    "dens_vap_init = cp.PropsSI('D', 'P', press_init, 'T', temp_vap_init, fluid)\n",
    "\n",
    "# OUTPUTS\n",
    "\n",
    "# Volumetric fill level (initial)\n",
    "fill_init = mass_liq_init / volume_tank / dens_liq_init\n",
    "print(\"Initial fill level:\",\"{:.2f}\".format(fill_init * 100), \"%\")\n",
    "\n",
    "# Ullage vapor mass (initial; single constituent ullage)\n",
    "mass_vap_init = dens_vap_init * volume_tank * (1. - fill_init)\n",
    "print(\"Initial ullage vapor mass:\",\"{:.3e}\".format(mass_vap_init), \"kg\")\n",
    "\n"
   ]
  },
  {
   "cell_type": "markdown",
   "metadata": {},
   "source": [
    "### Subcooled Venting"
   ]
  },
  {
   "cell_type": "markdown",
   "metadata": {},
   "source": []
  }
 ],
 "metadata": {
  "kernelspec": {
   "display_name": "base",
   "language": "python",
   "name": "python3"
  },
  "language_info": {
   "codemirror_mode": {
    "name": "ipython",
    "version": 3
   },
   "file_extension": ".py",
   "mimetype": "text/x-python",
   "name": "python",
   "nbconvert_exporter": "python",
   "pygments_lexer": "ipython3",
   "version": "3.11.5"
  }
 },
 "nbformat": 4,
 "nbformat_minor": 2
}

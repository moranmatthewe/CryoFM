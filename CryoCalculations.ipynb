{
 "cells": [
  {
   "cell_type": "markdown",
   "id": "faf8a47d-6041-40cd-8a5c-626c484844e9",
   "metadata": {},
   "source": [
    "# Introduction"
   ]
  },
  {
   "cell_type": "markdown",
   "id": "06e8bb75",
   "metadata": {
    "tags": []
   },
   "source": [
    "Copyright 2022 Moran Innovation LLC\n",
    "\n",
    "   Licensed under the Apache License, Version 2.0 (the \"License\");\n",
    "   you may not use this file except in compliance with the License.\n",
    "   You may obtain a copy of the License at http://www.apache.org/licenses/LICENSE-2.0\n",
    "\n",
    "   Unless required by applicable law or agreed to in writing, software\n",
    "   distributed under the License is distributed on an \"AS IS\" BASIS,\n",
    "   WITHOUT WARRANTIES OR CONDITIONS OF ANY KIND, either express or implied.\n",
    "   See the License for the specific language governing permissions and\n",
    "   limitations under the License."
   ]
  },
  {
   "cell_type": "markdown",
   "id": "fa26714a-54f7-4d48-9da3-87e948e66a01",
   "metadata": {},
   "source": [
    "CryoFM(TM) is a trademark of Moran Innovation LLC. All rights reserved."
   ]
  },
  {
   "cell_type": "markdown",
   "id": "c94c7a16-d340-4292-ba53-bb48eaa4092a",
   "metadata": {
    "tags": []
   },
   "source": [
    "**HOW TO USE THIS INTERACTIVE NOTEBOOK: Use the table of contents icon and sidebar at the left to navigate to the topic of interest. Change any of the input values and run the cell code.**\n",
    "\n",
    "**CAUTION: None of the code cells run automatically. The user must manually run selected code cells in sequence to achieve the desired results. Default units are SI.**\n",
    "\n",
    "**The reference report for this interactive notebook can be found at: https://drive.google.com/file/d/1sTNNPRgGdC4JrDt5UGz7pkyhoysBNkRZ/view.** \n",
    "\n",
    "**Please report any errata or other feedback to info@moraninnovation.com.**"
   ]
  },
  {
   "cell_type": "markdown",
   "id": "3f018133-90cd-441b-abf6-6c71f4ba3088",
   "metadata": {},
   "source": [
    "## CryoFM"
   ]
  },
  {
   "cell_type": "markdown",
   "metadata": {},
   "source": [
    "CryoFM is a library of functions useful for cryogenic fluid management. To access CryoFM from this notebook, use the \"import CryoFM\" command. Use the \"dir(CryoFM)\" command to get a list of the library functions."
   ]
  },
  {
   "cell_type": "code",
   "execution_count": 6,
   "id": "887c5fdc",
   "metadata": {},
   "outputs": [
    {
     "data": {
      "text/plain": [
       "['__builtins__',\n",
       " '__cached__',\n",
       " '__doc__',\n",
       " '__file__',\n",
       " '__loader__',\n",
       " '__name__',\n",
       " '__package__',\n",
       " '__spec__',\n",
       " 'bond',\n",
       " 'cp',\n",
       " 'list_fluids',\n",
       " 'reynolds']"
      ]
     },
     "execution_count": 6,
     "metadata": {},
     "output_type": "execute_result"
    }
   ],
   "source": [
    "import CryoFM\n",
    "\n",
    "dir(CryoFM)"
   ]
  },
  {
   "cell_type": "markdown",
   "id": "76be1d6f",
   "metadata": {},
   "source": [
    "For help on a particular function, use the \"help(CryoFM.functionname)\" command. Note that help can also be used for the entire CryoFM library but results in a very long text output."
   ]
  },
  {
   "cell_type": "code",
   "execution_count": 10,
   "id": "bb9f7765",
   "metadata": {},
   "outputs": [
    {
     "name": "stdout",
     "output_type": "stream",
     "text": [
      "Help on function reynolds in module CryoFM:\n",
      "\n",
      "reynolds(fluid, velocity, dim_char, temp, press)\n",
      "    Reynolds number (ratio of inertia to viscous forces in a flowing fluid)\n",
      "    \n",
      "    Keyword arguments:\n",
      "    fluid -- fluid type supported by CoolProp\n",
      "    velocity -- fluid velocity, m/s\n",
      "    dim_char -- characteristic dimension, m\n",
      "                distance from leading edge for external flow, or\n",
      "                hydraulic diameter for internal flow (4*area/wetted perimeter)\n",
      "    temp -- fluid temperature, K\n",
      "    press -- fluid pressure, Pa\n",
      "\n"
     ]
    }
   ],
   "source": [
    "import CryoFM\n",
    "\n",
    "help(CryoFM.reynolds)"
   ]
  },
  {
   "cell_type": "markdown",
   "id": "604b821a",
   "metadata": {},
   "source": [
    "CryoFM functions are invoked using \"CryoFM.functionname(arguments)\". Some examples:"
   ]
  },
  {
   "cell_type": "code",
   "execution_count": 18,
   "id": "61acef74-11e7-4ab7-b56f-adaae3d7d71b",
   "metadata": {},
   "outputs": [
    {
     "ename": "TypeError",
     "evalue": "bond() missing 1 required positional argument: 'surf_tens'",
     "output_type": "error",
     "traceback": [
      "\u001b[1;31m---------------------------------------------------------------------------\u001b[0m",
      "\u001b[1;31mTypeError\u001b[0m                                 Traceback (most recent call last)",
      "\u001b[1;32mc:\\Users\\moran\\OneDrive - Moran Innovation LLC\\Git Clones\\CryoFM\\CryoCalculations.ipynb Cell 11\u001b[0m in \u001b[0;36m<cell line: 10>\u001b[1;34m()\u001b[0m\n\u001b[0;32m      <a href='vscode-notebook-cell:/c%3A/Users/moran/OneDrive%20-%20Moran%20Innovation%20LLC/Git%20Clones/CryoFM/CryoCalculations.ipynb#Y160sZmlsZQ%3D%3D?line=6'>7</a>\u001b[0m fluid \u001b[39m=\u001b[39m \u001b[39m'\u001b[39m\u001b[39mOxygen\u001b[39m\u001b[39m'\u001b[39m    \u001b[39m# http://www.coolprop.org/fluid_properties/PurePseudoPure.html\u001b[39;00m\n\u001b[0;32m      <a href='vscode-notebook-cell:/c%3A/Users/moran/OneDrive%20-%20Moran%20Innovation%20LLC/Git%20Clones/CryoFM/CryoCalculations.ipynb#Y160sZmlsZQ%3D%3D?line=8'>9</a>\u001b[0m \u001b[39m# Bond number\u001b[39;00m\n\u001b[1;32m---> <a href='vscode-notebook-cell:/c%3A/Users/moran/OneDrive%20-%20Moran%20Innovation%20LLC/Git%20Clones/CryoFM/CryoCalculations.ipynb#Y160sZmlsZQ%3D%3D?line=9'>10</a>\u001b[0m bond_number \u001b[39m=\u001b[39m CryoFM\u001b[39m.\u001b[39;49mbond(fluid, accel, diam_fs, pressure)\n\u001b[0;32m     <a href='vscode-notebook-cell:/c%3A/Users/moran/OneDrive%20-%20Moran%20Innovation%20LLC/Git%20Clones/CryoFM/CryoCalculations.ipynb#Y160sZmlsZQ%3D%3D?line=10'>11</a>\u001b[0m \u001b[39mprint\u001b[39m(\u001b[39m\"\u001b[39m\u001b[39mBond number =\u001b[39m\u001b[39m\"\u001b[39m, \u001b[39mround\u001b[39m(bond_number,\u001b[39m1\u001b[39m))\n",
      "\u001b[1;31mTypeError\u001b[0m: bond() missing 1 required positional argument: 'surf_tens'"
     ]
    }
   ],
   "source": [
    "import CryoFM\n",
    "\n",
    "# Inputs\n",
    "accel = 9.81e-6     # m/s^2, local acceleration at the interface\n",
    "diam_fs = 6.6       # m, free surface diameter at the interface\n",
    "pressure = 2e5      # Pa, saturation pressure at the interface\n",
    "fluid = 'Oxygen'    # http://www.coolprop.org/fluid_properties/PurePseudoPure.html\n",
    "\n",
    "# Bond number\n",
    "bond_number = CryoFM.bond(fluid, accel, diam_fs, pressure)\n",
    "print(\"Bond number =\", round(bond_number,1))"
   ]
  },
  {
   "cell_type": "markdown",
   "id": "6c54c5c7-74dd-4ebc-a08d-f349a352cb95",
   "metadata": {},
   "source": [
    "## Fluid Properties"
   ]
  },
  {
   "cell_type": "markdown",
   "id": "baf46dc7",
   "metadata": {},
   "source": [
    "The pressure vs temperature saturation curve along with key thermodynamic values for hydrogen, methane, and oxygen are shown below."
   ]
  },
  {
   "attachments": {
    "image.png": {
     "image/png": "[encoded data removed]"
    }
   },
   "cell_type": "markdown",
   "id": "339b5b20",
   "metadata": {},
   "source": [
    "![image.png](attachment:image.png)"
   ]
  },
  {
   "cell_type": "markdown",
   "id": "a7c94f8c-8feb-463d-836a-d9bf9866a956",
   "metadata": {
    "tags": []
   },
   "source": [
    "### CoolProp Lists"
   ]
  },
  {
   "cell_type": "markdown",
   "id": "da061952",
   "metadata": {},
   "source": [
    "The open source CoolProp software is used in CryoFM for fluid properties evaluation. Details on the fluids and properties supported by CoolProp can be found at the links below.\n",
    "\n",
    "*Fluids list: http://coolprop.org/fluid_properties/PurePseudoPure.html#list-of-fluids\n",
    "\n",
    "*Properties list: http://www.coolprop.org/coolprop/HighLevelAPI.html#table-of-string-inputs-to-propssi-function"
   ]
  },
  {
   "cell_type": "markdown",
   "id": "82e36e27-6ac7-46df-953b-7fa98aab209e",
   "metadata": {},
   "source": [
    "### Saturation Conditions"
   ]
  },
  {
   "cell_type": "markdown",
   "id": "7eded769",
   "metadata": {},
   "source": [
    "Some saturated properties used in CryoFM and the associated CoolProp calls are shown below for reference."
   ]
  },
  {
   "cell_type": "code",
   "execution_count": 4,
   "id": "b32441d9-7e2d-43f4-a7ec-012eedd5f02c",
   "metadata": {},
   "outputs": [
    {
     "name": "stdout",
     "output_type": "stream",
     "text": [
      "{'temp_sat': 97.23553533356629, 'density_liquid': 1105.401189711224, 'density_vapor': 8.354467802255993, 'surf_tension': 0.011405531150268775}\n"
     ]
    }
   ],
   "source": [
    "import CoolProp.CoolProp as cp  # for evaluating fluid thermophysical properties\n",
    "\n",
    "# Saturation condition\n",
    "fluid = 'Oxygen'  # http://www.coolprop.org/fluid_properties/PurePseudoPure.html\n",
    "pressure = 2e5    # Pa, pressure\n",
    "\n",
    "# Properties\n",
    "density_liquid = cp.PropsSI('D', 'P', pressure, 'Q', 0, fluid)              # kg/m^3, saturated liquid density \n",
    "density_vapor = cp.PropsSI('D', 'P', pressure, 'Q', 1, fluid)               # kg/m^3, saturated vapor density\n",
    "surf_tension = cp.PropsSI('surface_tension', 'P', pressure, 'Q', 0, fluid)  # N/m, saturated surface tension\n",
    "temp_sat = cp.PropsSI('T', 'P', pressure, 'Q', 0, fluid)                    # K, saturation temperature\n",
    "\n",
    "# Results\n",
    "results = {\"temp_sat\": temp_sat, \"density_liquid\": density_liquid, \"density_vapor\": density_vapor, \n",
    "           \"surf_tension\": surf_tension}\n",
    "print(results)"
   ]
  },
  {
   "cell_type": "markdown",
   "id": "b72d4aa6-1e80-4ee4-91d5-8f03f6b27f12",
   "metadata": {
    "tags": []
   },
   "source": [
    "### Specific State Points"
   ]
  },
  {
   "cell_type": "markdown",
   "id": "7eded769",
   "metadata": {},
   "source": [
    "Some state point properties used in CryoFM and the associated CoolProp calls are shown below for reference."
   ]
  },
  {
   "cell_type": "code",
   "execution_count": 5,
   "id": "6e8d200a-fe2d-4e44-898d-271dc3519073",
   "metadata": {},
   "outputs": [
    {
     "name": "stdout",
     "output_type": "stream",
     "text": [
      "{'phase': 'liquid', 'density': 1106.6351294355363, 'visc_dynamic': 0.0001638895690225786, 'prandtl': 2.004098847592044}\n"
     ]
    }
   ],
   "source": [
    "import CoolProp.CoolProp as cp    # for evaluating fluid thermophysical properties\n",
    "\n",
    "# State points\n",
    "fluid = 'Oxygen'  # http://www.coolprop.org/fluid_properties/PurePseudoPure.html\n",
    "temp = 97         # K, temperature\n",
    "pressure = 2e5    # Pa, pressure\n",
    "\n",
    "# Properties\n",
    "density = cp.PropsSI('D', 'T', temp, 'P', pressure, fluid)       # kg/m^3, fluid density\n",
    "phase = cp.PhaseSI('T', temp, 'P', pressure, fluid)              # based on state point inputs\n",
    "visc_dynamic = cp.PropsSI('V', 'T', temp, 'P', pressure, fluid)  # Pa-s, dynamic viscosity\n",
    "prandtl = cp.PropsSI('Prandtl', 'T', temp, 'P', pressure, fluid)  # prandtl number\n",
    "\n",
    "# Results\n",
    "results = {\"phase\": phase, \"density\": density, \"visc_dynamic\": visc_dynamic, \"prandtl\": prandtl}\n",
    "print(results)"
   ]
  },
  {
   "cell_type": "markdown",
   "id": "5e8e1635",
   "metadata": {
    "tags": []
   },
   "source": [
    "## Dimensionless Numbers"
   ]
  },
  {
   "cell_type": "markdown",
   "id": "953679ce",
   "metadata": {},
   "source": [
    "Dimensionless numbers are used for heat transfer and fluid dynamic analysis. Here are the dimensionless numbers available from the CryoFM library:"
   ]
  },
  {
   "cell_type": "markdown",
   "id": "38c2ef09-3c46-4a50-873b-4fdd92db5213",
   "metadata": {
    "tags": []
   },
   "source": [
    "### Bond Number"
   ]
  },
  {
   "cell_type": "code",
   "execution_count": 6,
   "id": "8eb622a8",
   "metadata": {},
   "outputs": [
    {
     "name": "stdout",
     "output_type": "stream",
     "text": [
      "Bond number = 41.1\n"
     ]
    }
   ],
   "source": [
    "import CoolProp.CoolProp as cp\n",
    "import CryoFM\n",
    "\n",
    "# Inputs\n",
    "accel = 9.81e-6     # m/s^2, local acceleration at the interface\n",
    "diam_fs = 6.6       # m, free surface diameter at the interface\n",
    "press = 2e5         # Pa, saturation pressure at the interface\n",
    "fluid = 'Oxygen'    # http://www.coolprop.org/fluid_properties/PurePseudoPure.html\n",
    "\n",
    "# Fluid properties\n",
    "dens_liq = cp.PropsSI('D', 'P', press, 'Q', 0, fluid)  # kg/m^3\n",
    "dens_vap = cp.PropsSI('D', 'P', press, 'Q', 1, fluid)  # kg/m^3\n",
    "surf_tens = cp.PropsSI('surface_tension', 'P', press, 'Q', 0, fluid)  # N/m\n",
    "\n",
    "# Bond number\n",
    "bond = CryoFM.bond(accel, diam_fs, dens_liq, dens_vap, surf_tens)\n",
    "print(\"Bond number =\", round(bond,1))"
   ]
  },
  {
   "cell_type": "markdown",
   "id": "cd43bbaf",
   "metadata": {
    "tags": []
   },
   "source": [
    "### Reynolds Number"
   ]
  },
  {
   "cell_type": "code",
   "execution_count": 7,
   "id": "650722d0",
   "metadata": {},
   "outputs": [
    {
     "name": "stdout",
     "output_type": "stream",
     "text": [
      "Reynolds number = 6.75232e+06\n"
     ]
    }
   ],
   "source": [
    "import CoolProp.CoolProp as cp\n",
    "import CryoFM\n",
    "\n",
    "# Inputs\n",
    "length = 0.1        # m, characteristic length or hydraulic diameter = 4*area/wetted perimeter\n",
    "velocity = 10       # m/s, fluid velocity\n",
    "temp = 97           # K, bulk fluid temperature\n",
    "press = 2e5      # Pa, dynamic pressure\n",
    "fluid = 'Oxygen'    # http://www.coolprop.org/fluid_properties/PurePseudoPure.html\n",
    "\n",
    "# Fluid properties\n",
    "dens = cp.PropsSI('D', 'T', temp, 'P', press, fluid)  # kg/m^3\n",
    "visc_dyn = cp.PropsSI('V', 'T', temp, 'P', press, fluid)  # Pa-s\n",
    "\n",
    "# Reynolds number\n",
    "reynolds = CryoFM.reynolds(velocity, length, dens, visc_dyn)\n",
    "print(\"Reynolds number =\", \"{:.5e}\".format(reynolds))"
   ]
  },
  {
   "cell_type": "markdown",
   "id": "d76a3770",
   "metadata": {},
   "source": [
    "### Prandtl Number"
   ]
  },
  {
   "cell_type": "code",
   "execution_count": 9,
   "id": "81b608ab",
   "metadata": {},
   "outputs": [
    {
     "name": "stdout",
     "output_type": "stream",
     "text": [
      "2.0\n"
     ]
    }
   ],
   "source": [
    "import CoolProp.CoolProp as cp\n",
    "\n",
    "# Inputs\n",
    "temp = 97           # K, bulk fluid temperature\n",
    "press = 2e5      # Pa, dynamic pressure\n",
    "fluid = 'Oxygen'    # http://www.coolprop.org/fluid_properties/PurePseudoPure.html\n",
    "\n",
    "# Prandtl number\n",
    "prandtl = cp.PropsSI('Prandtl', 'T', temp, 'P', pressure, fluid)\n",
    "print(round(prandtl,2))"
   ]
  },
  {
   "cell_type": "markdown",
   "id": "2a76f320-2e88-4f42-8f6e-256d3d8dfc1b",
   "metadata": {},
   "source": [
    "### Raleigh Number"
   ]
  },
  {
   "cell_type": "markdown",
   "id": "908fef06-7d79-461e-b4b9-8026ba677992",
   "metadata": {},
   "source": [
    "### Nusselt Number"
   ]
  },
  {
   "cell_type": "markdown",
   "id": "4724845a-2877-4e19-a059-d25c9e1bceba",
   "metadata": {},
   "source": [
    "## Environments"
   ]
  },
  {
   "cell_type": "markdown",
   "id": "a3fd31f5-192c-47e0-9f86-4787b9373abc",
   "metadata": {
    "tags": []
   },
   "source": [
    "# Passive CFM"
   ]
  },
  {
   "cell_type": "markdown",
   "id": "5fe9eddf-291d-42c7-88fc-98e79cff00b1",
   "metadata": {
    "tags": []
   },
   "source": [
    "## Tankage"
   ]
  },
  {
   "cell_type": "markdown",
   "id": "bd83cdcf-8e06-41a3-8e7e-b8ab2e98dc62",
   "metadata": {},
   "source": [
    "## Venting"
   ]
  },
  {
   "cell_type": "markdown",
   "id": "6fe46f36-aa03-4158-a483-41a2ef0065a4",
   "metadata": {},
   "source": [
    "## Pressurization"
   ]
  },
  {
   "cell_type": "markdown",
   "id": "3b6c2a4e-e2a8-4a74-9632-4e27b426e6f1",
   "metadata": {},
   "source": [
    "## Chilldown and Filling"
   ]
  },
  {
   "cell_type": "markdown",
   "id": "1fa902a8-75c1-40da-9414-285962b20a97",
   "metadata": {},
   "source": [
    "## Radiation Shields"
   ]
  },
  {
   "cell_type": "markdown",
   "id": "a04b4fcd-10d1-459a-a951-88bf6048cb8a",
   "metadata": {},
   "source": [
    "# Active CFM"
   ]
  },
  {
   "cell_type": "markdown",
   "id": "738c5794-42af-4396-a698-a3e9f87cb077",
   "metadata": {},
   "source": [
    "## Broad Area Cooling (BAC)"
   ]
  },
  {
   "cell_type": "markdown",
   "id": "1fc683b6-28d8-4bac-aa0f-022fe62d8449",
   "metadata": {
    "tags": []
   },
   "source": [
    "### Cooling Flow"
   ]
  },
  {
   "cell_type": "markdown",
   "id": "a52b332a",
   "metadata": {},
   "source": [
    "For a given cooling load, the required flow in the BAC to provide that cooling can be estimated by:\n",
    "* Identifying the cooling gas, its average operating pressure, and inlet temperature\n",
    "* Specifying the cooling load needed\n",
    "* Estimating the temperature drop from outlet to inlet of the BAC (e.g, based on past designs)"
   ]
  },
  {
   "cell_type": "code",
   "execution_count": 8,
   "id": "872e5082-afc5-4baa-8279-fce2c1e1c5a5",
   "metadata": {},
   "outputs": [
    {
     "name": "stdout",
     "output_type": "stream",
     "text": [
      "Required Helium mass flow = 1.16e-02 kg/s\n"
     ]
    }
   ],
   "source": [
    "import CoolProp.CoolProp as cp # for evaluating fluid thermophysical properties\n",
    "\n",
    "# Inputs\n",
    "fluid = 'Helium'     # cooling fluid\n",
    "cooling_load = 187.6 # W, cooling to be provided\n",
    "pressure = 10e5      # Pa, average pressure of cooling fluid\n",
    "temp_avg = 86.55     # K, average cooling fluid temperature\n",
    "temp_delta = 3.1     # K, cooling fluid temperature difference (outlet - inlet)\n",
    "\n",
    " \n",
    "def mdot_bac(fluid, cooling_load, pressure, temp_avg, temp_delta):\n",
    "    \"\"\"Mass flow rate of broad area cooling (BAC) loop in g/s\"\"\"\n",
    "    # Specific heat capacity of the cooling gas, J/kg-K\n",
    "    c_p = cp.PropsSI(\"C\", \"T\", temp_avg, \"P\", pressure, fluid)\n",
    "    # Mass flow rate, g/s\n",
    "    massflow = cooling_load / c_p / temp_delta\n",
    "    # Print results\n",
    "    print(\"Required\", fluid, \"mass flow =\", \"{:.2e}\".format(massflow), \"kg/s\")\n",
    "    return\n",
    "\n",
    "# Results\n",
    "result = mdot_bac(fluid, cooling_load, pressure, temp_avg, temp_delta)\n"
   ]
  },
  {
   "cell_type": "markdown",
   "id": "901a4fec-3001-410b-8364-9d70bcf08608",
   "metadata": {},
   "source": [
    "### Thermal Performance"
   ]
  },
  {
   "cell_type": "markdown",
   "id": "6518bb6b-a80c-44aa-9d88-38364aa420ed",
   "metadata": {},
   "source": [
    "If the BAC loop is comprised of tubing mounted to a surface such as the tank wall or an intermediate shield, thermal performance can be estimated using a single stream heat exchanger analysis. The outlet temperature can then be calculated directly rather than assuming a value based on previous designs or experience. Note that this analysis assumes a constant temperature boundary on the tubing external wall."
   ]
  },
  {
   "cell_type": "code",
   "execution_count": 9,
   "id": "8b2da1f2-51a4-44a9-9518-f536998fa3c3",
   "metadata": {},
   "outputs": [
    {
     "name": "stdout",
     "output_type": "stream",
     "text": [
      "Properties: density = 5.42 kg/m^3, Prandtl = 0.696 , conductivity = 6.836e-02 W/m-K, Cp = 5216.74 J/kg-K\n",
      "\n",
      "Flow: area = 1.267e-04 m^2, velocity = 0.28 m/s, perimeter = 3.990e-02 m, Reynolds = 2.123e+03 laminar\n",
      "\n",
      "Other parameters: friction factor (corrected) = 2.996e-02 , Nusselt number (corrected) = 3.609e+00\n",
      "\n",
      "Results: heat transfer coefficient: 19.43 W/m^2-K, outlet temp = 89.68\n"
     ]
    }
   ],
   "source": [
    "import math\n",
    "import CoolProp.CoolProp as cp\n",
    "import CryoFM\n",
    "\n",
    "# Inputs\n",
    "fluid = 'Helium'    # cooling fluid\n",
    "mdot_tube = 1.93e-4 # kg/s, cooling fluid mass flow per tube\n",
    "id = 0.0127         # m, inside diameter of cooling tube\n",
    "length = 3.556      # m, cooling tube length\n",
    "temp_in = 85.0      # K, cooling fluid inlet temperature\n",
    "temp_avg = 87.5     # K, average cooling fluid temperature\n",
    "press_avg = 10e5    # Pa, average cooling fluid pressure\n",
    "temp_wall = 90      # K, wall/shield temperature (assumed constant)\n",
    "\n",
    "def hx_single_stream(fluid, mdot_tube, id, length, temp_in, temp_avg, \n",
    "                     press_avg, temp_wall):\n",
    "    \"\"\"Single stream heat exchanger with constant wall temperature\n",
    "    \n",
    "    Refr: Lienhard, A Heat Transfer Textbook, 4th ed., 2017\n",
    "    \"\"\"\n",
    "\n",
    "    # Properties\n",
    "    density = cp.PropsSI('D', 'T', temp_avg, 'P', press_avg, fluid)  # kg/m^3\n",
    "    prandtl = cp.PropsSI('Prandtl', 'T', temp_avg, 'P', press_avg, fluid)\n",
    "    conductivity = cp.PropsSI('conductivity', 'T', temp_avg, 'P', press_avg,\n",
    "                              fluid) # W/m-K\n",
    "    c_p = cp.PropsSI('C', 'T', temp_avg, 'P', press_avg, fluid) # J/kg-K\n",
    "\n",
    "\n",
    "    # Flow area, perimeter, velocity, and Reynolds number\n",
    "    area = math.pi / 4 * id**2  # m^2\n",
    "    perimeter = math.pi * id\n",
    "    velocity = mdot_tube / density / area  # m/s\n",
    "    reynolds = CryoFM.reynolds(fluid, velocity, id, temp_avg, press_avg)\n",
    "\n",
    "    # Friction factor and Nusselt number\n",
    "    if reynolds < 2300:  # laminar\n",
    "        flow = 'laminar'\n",
    "        ffactor = 64 / reynolds\n",
    "        nusselt = 3.657\n",
    "    else:  # turbulent; 2300 < Re < 5e6\n",
    "        flow = 'turbulent'\n",
    "        ffactor = 1/((1.82 * math.log10(reynolds) - 1.64)**2)\n",
    "        nusselt = (ffactor/8 * (reynolds-1000) * prandtl / \n",
    "                  (1 + 12.7*math.sqrt(ffactor/8) * (prandtl**(2/3) - 1)))\n",
    "\n",
    "    # Corrected friction factor and Nusselt for variable fluid properties\n",
    "    tratio = temp_avg / temp_wall\n",
    "    f_corr = ffactor * (tratio)**0.23\n",
    "    if tratio < 0.14 or tratio > 3.3: # caution message\n",
    "        print(\"Caution: fluid-to-wall temperature ratio out of range for \\\n",
    "              corrected friction factor correlation used\")\n",
    "    if temp_wall > temp_avg:\n",
    "        n = 0.47\n",
    "    else:\n",
    "        n = 0\n",
    "    nu_corr = nusselt * (tratio)**n\n",
    "\n",
    "    # Heat transfer coefficient and outlet temperature\n",
    "    ht_coeff = nu_corr * conductivity / id  # W/m^2-K\n",
    "    temp_out = ((temp_wall - temp_in) * \n",
    "                (1 - math.exp(-ht_coeff*perimeter*length/mdot_tube/c_p))\n",
    "                + temp_in)\n",
    "\n",
    "    # Print selected results\n",
    "    if reynolds > 5e6: # out of range caution\n",
    "        print(\"Caution: Reynolds number above stated range for Nusselt \\\n",
    "              correlation used\")\n",
    "    print(\"Properties: density =\", round(density,2), \"kg/m^3, Prandtl =\", \n",
    "          round (prandtl,3), \", conductivity =\", \"{:.3e}\".format(conductivity),\n",
    "          \"W/m-K, Cp =\", round(c_p,2), \"J/kg-K\\n\")\n",
    "    print(\"Flow: area =\", \"{:.3e}\".format(area), \"m^2, velocity =\", \n",
    "          round(velocity,2), \"m/s, perimeter =\", \"{:.3e}\".format(perimeter), \n",
    "          \"m, Reynolds =\", \"{:.3e}\".format(reynolds), flow, end='\\n\\n')\n",
    "    print(\"Other parameters: friction factor (corrected) =\", \n",
    "          \"{:.3e}\".format(f_corr), \", Nusselt number (corrected) =\", \n",
    "          \"{:.3e}\".format(nu_corr), end='\\n\\n')\n",
    "    print(\"Results: heat transfer coefficient:\", round(ht_coeff,2), \n",
    "          \"W/m^2-K, outlet temp =\", round(temp_out,2))\n",
    "    return\n",
    "\n",
    "# Call function\n",
    "hx_single_stream(fluid, mdot_tube, id, length, temp_in, temp_avg, press_avg, \n",
    "                 temp_wall)"
   ]
  },
  {
   "cell_type": "markdown",
   "id": "5ab40f18-12f9-4e5d-bc3e-5d8c8100b99b",
   "metadata": {},
   "source": [
    "### Wall or Shield dT"
   ]
  },
  {
   "cell_type": "markdown",
   "id": "7b8e1b20-9a88-4a7d-ab11-d1f19c5bfe6a",
   "metadata": {},
   "source": [
    "### Manifolds Sizing"
   ]
  },
  {
   "cell_type": "markdown",
   "id": "0fd5baab-8a32-4e38-839c-16caeb8a9419",
   "metadata": {},
   "source": [
    "### Pressure Drop"
   ]
  },
  {
   "cell_type": "markdown",
   "id": "82137c64-fd7d-4f2e-9564-19738b48489b",
   "metadata": {},
   "source": [
    "## Mixing"
   ]
  },
  {
   "cell_type": "markdown",
   "id": "6f138099-380b-4772-801a-eea0f763e326",
   "metadata": {},
   "source": [
    "# Supplemental"
   ]
  },
  {
   "cell_type": "markdown",
   "id": "62fad6f0-6c1b-4cb5-a4ab-f2f8c5723739",
   "metadata": {},
   "source": [
    "## Verification Tests"
   ]
  },
  {
   "cell_type": "code",
   "execution_count": 10,
   "id": "480515b7-3b94-45d2-800b-ddefeaf47870",
   "metadata": {},
   "outputs": [
    {
     "name": "stdout",
     "output_type": "stream",
     "text": [
      "PASSED: bond function verification case\n",
      "PASSED: reynolds function verification case\n"
     ]
    }
   ],
   "source": [
    "if(abs(bond(9.81E-6, 6.6, 1105.401189711224, 8.354467802255993, 0.011405531150268775) - 41.1)) > 0.1:\n",
    "    print(\"FAILED: bond function verification case\")\n",
    "else:\n",
    "    print(\"PASSED: bond function verification case\")\n",
    "\n",
    "if(abs(reynolds(1106.6351294355363, 10, 0.1, 0.0001638895690225786) - 6.752322E6)) > 0.1:\n",
    "    print(\"FAILED: reynolds function verification case\")\n",
    "else:\n",
    "    print(\"PASSED: reynolds function verification case\")\n",
    "        "
   ]
  },
  {
   "cell_type": "markdown",
   "id": "418fe792-86d4-431d-9846-cd4a9b6bafed",
   "metadata": {},
   "source": [
    "## Binder"
   ]
  },
  {
   "cell_type": "markdown",
   "id": "8d7b5363-36e5-4b0c-a2ac-51d79ef065ae",
   "metadata": {},
   "source": [
    "Setting it up from GitHub: https://github.com/Build-a-binder/build-a-binder.github.io/blob/master/workshop/10-zero-to-binder.md"
   ]
  },
  {
   "cell_type": "markdown",
   "id": "7bcfafff-5531-4690-8b61-aed294d7bf86",
   "metadata": {},
   "source": [
    "## Pint"
   ]
  },
  {
   "cell_type": "markdown",
   "id": "c157bd8f-f432-4104-9f8e-dce3e592e131",
   "metadata": {},
   "source": [
    "website: https://pint.readthedocs.io/en/stable/\n"
   ]
  },
  {
   "cell_type": "code",
   "execution_count": 11,
   "id": "0471ad25-e6c2-4f2e-9352-84703bd97a64",
   "metadata": {},
   "outputs": [
    {
     "name": "stdout",
     "output_type": "stream",
     "text": [
      "3.04 meter\n",
      "3.2808398950131235 foot\n",
      "2.54 centimeter\n"
     ]
    }
   ],
   "source": [
    "import pint\n",
    "\n",
    "# Mixed units math\n",
    "units = pint.UnitRegistry()\n",
    "sum = 3 * units.m + 4 * units.cm\n",
    "print(sum)\n",
    "\n",
    "# Unit conversions\n",
    "length = 1 * units.m\n",
    "print(length.to(units.ft))\n",
    "\n",
    "# Specify value and units    \n",
    "value = units.Quantity\n",
    "length = value('2.54 cm')\n",
    "print(length)"
   ]
  },
  {
   "cell_type": "markdown",
   "id": "672a38b8-1480-431a-9c7a-6e57f74cb68b",
   "metadata": {},
   "source": [
    "## Code Snippets"
   ]
  },
  {
   "cell_type": "code",
   "execution_count": 12,
   "id": "3491287c-63f1-4c6e-9ee1-e12521ef16b4",
   "metadata": {},
   "outputs": [
    {
     "name": "stdout",
     "output_type": "stream",
     "text": [
      "Inputs: fluid = Helium , pressure = 1.000e+06 Pa , free surface diameter = 6.6 m , acceleration = 9.810e-06 m/s^2 , liquid density = 1105.4 kg/m^3 , vapor density = 8.3545 kg/m^3 , surface tension = 1.14055e-02 N/m\n",
      "\n",
      "Inputs: fluid = Helium , pressure = 1.000e+06 Pa , fluid temperature = 97 K , characteristic dimension = 2.54 centimeter m , fluid velocity = 10 m/s , fluid density = 1.10664e+03 kg/m^3 , dynamic viscosity = 1.63890e-04 Pa-s\n",
      "\n"
     ]
    }
   ],
   "source": [
    "# Full printing of inputs and properties from bond and raleigh functions\n",
    "print(\"Inputs: fluid =\", fluid, \", pressure =\", \"{:.3e}\".format(pressure), \"Pa\", \", free surface diameter =\",\n",
    "      round(diam_fs, 3), \"m\", \", acceleration =\", \"{:.3e}\".format(accel), \"m/s^2\", \", liquid density =\", \n",
    "      round(density_liquid, 1), \"kg/m^3\", \", vapor density =\", round(density_vapor,4), \"kg/m^3\", \n",
    "      \", surface tension =\", \"{:.5e}\".format(surf_tension), \"N/m\", end='\\n\\n')\n",
    "print(\"Inputs: fluid =\", fluid, \", pressure =\", \"{:.3e}\".format(pressure), \"Pa\", \", fluid temperature =\",\n",
    "      round(temp, 2), \"K\", \", characteristic dimension =\", round(length, 3), \"m\", \", fluid velocity =\", \n",
    "      round(velocity, 3), \"m/s\", \", fluid density =\", \"{:.5e}\".format(density), \"kg/m^3\",\n",
    "      \", dynamic viscosity =\", \"{:.5e}\".format(visc_dynamic), \"Pa-s\", end='\\n\\n')"
   ]
  }
 ],
 "metadata": {
  "kernelspec": {
   "display_name": "Python 3 (ipykernel)",
   "language": "python",
   "name": "python3"
  },
  "language_info": {
   "codemirror_mode": {
    "name": "ipython",
    "version": 3
   },
   "file_extension": ".py",
   "mimetype": "text/x-python",
   "name": "python",
   "nbconvert_exporter": "python",
   "pygments_lexer": "ipython3",
   "version": "3.9.12"
  },
  "toc-autonumbering": false,
  "toc-showcode": false,
  "toc-showmarkdowntxt": false,
  "toc-showtags": false,
  "vscode": {
   "interpreter": {
    "hash": "439437af3587d30f29a2b254ec1c6707681b598e1f46b329955c64be4382d26e"
   }
  }
 },
 "nbformat": 4,
 "nbformat_minor": 5
}

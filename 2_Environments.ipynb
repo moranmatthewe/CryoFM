{
 "cells": [
  {
   "attachments": {},
   "cell_type": "markdown",
   "metadata": {},
   "source": [
    "# Environments"
   ]
  },
  {
   "attachments": {},
   "cell_type": "markdown",
   "metadata": {},
   "source": [
    "## Overview"
   ]
  },
  {
   "attachments": {},
   "cell_type": "markdown",
   "metadata": {},
   "source": [
    "Copyright 2023 Moran Innovation LLC\n",
    "\n",
    "   Licensed under the Apache License, Version 2.0 (the \"License\");\n",
    "   you may not use this file except in compliance with the License.\n",
    "   You may obtain a copy of the License at http://www.apache.org/licenses/LICENSE-2.0\n",
    "\n",
    "   Unless required by applicable law or agreed to in writing, software\n",
    "   distributed under the License is distributed on an \"AS IS\" BASIS,\n",
    "   WITHOUT WARRANTIES OR CONDITIONS OF ANY KIND, either express or implied.\n",
    "   See the License for the specific language governing permissions and\n",
    "   limitations under the License.\n",
    "\n",
    "CryoFM™ is a trademark of Moran Innovation LLC. All rights reserved."
   ]
  },
  {
   "attachments": {},
   "cell_type": "markdown",
   "metadata": {},
   "source": [
    "### Usage Notes"
   ]
  },
  {
   "attachments": {},
   "cell_type": "markdown",
   "metadata": {},
   "source": [
    "**HOW TO USE THIS INTERACTIVE NOTEBOOK:**\n",
    "* Use the table of contents icon and sidebar at the left to navigate to the topics of interest.\n",
    "* Change any of the input values and run the associated cell code.\n",
    "* If an interactive Binder web browser session is being used, the original file will not be altered. Therefore, if you wish to retain any modifications you make, save your file to local memory on your device.\n",
    "\n",
    "**CAUTION:** None of the code cells run automatically. The user must manually run selected code cells in sequence to achieve the desired results. Default units are SI.\n",
    "\n",
    "**REFERENCE REPORT AND TRAINING:** The reference report for this interactive notebook is \"Cryogenic fluid management of liquid hydrogen, oxygen, and methane: Part 1 - passive technologies, systems, and operations\",  Moran Innovation LLC, 2023. An online version of the report and training videos based on the content can be found here: https://sites.google.com/view/matthewemoran/training#h.ir8xm9d8wn6h."
   ]
  },
  {
   "attachments": {},
   "cell_type": "markdown",
   "metadata": {},
   "source": [
    "### Acceleration and Thermal"
   ]
  },
  {
   "attachments": {},
   "cell_type": "markdown",
   "metadata": {},
   "source": [
    "The environments that a spacecraft is exposed to are a function of the mission segment and ConOps. CFM is strongly impacted by the corresponding induced acceleration and thermal sources and sinks. An understanding and characterization of these environments is essential for identifying key CFM drivers, and for making appropriate system design and operational trades. NASA SLS-SPEC-159 provides comprehensive definition of natural environments relevant for all space exploration systems development."
   ]
  },
  {
   "attachments": {},
   "cell_type": "markdown",
   "metadata": {},
   "source": [
    "## Calculation Examples"
   ]
  },
  {
   "attachments": {},
   "cell_type": "markdown",
   "metadata": {},
   "source": [
    "### Equilibrium Temperature in Cislunar Space"
   ]
  },
  {
   "attachments": {},
   "cell_type": "markdown",
   "metadata": {},
   "source": [
    "Consider a spacecraft on a translunar trajectory roughly midway between the earth and moon. What is the spacecraft’s equilibrium surface temperature if the ratio of its absorbing projected to emitting surface area (Ap/As) is 0.224, and its ratio of surface absorptivity to emissivity is 1.23?"
   ]
  },
  {
   "cell_type": "code",
   "execution_count": 23,
   "metadata": {},
   "outputs": [
    {
     "name": "stdout",
     "output_type": "stream",
     "text": [
      "Equilibrium surface temperature = 291 K\n"
     ]
    }
   ],
   "source": [
    "S_B = 5.67037441918e-8  # W/m^2-K^4; Stefan-Boltzmann constant\n",
    "\n",
    "# Inputs\n",
    "area_projected = 0.224  # m^2; projected absorbing area (sun facing)\n",
    "area_emitting = 1  # m^2; emitting surface area (total)\n",
    "absorptivity = 0.90  # gray diffuse surface absorptivity\n",
    "emissivity = 0.73  # gray diffuse surface emissivity\n",
    "q_solar = 1421  # W/m^2; solar heat flux (cislunar maximum is 1421 W/m^2)\n",
    "temp_sink = 3  # K; environment sink temperature (e.g., deep space)\n",
    "\n",
    "# Equilibrium surface temperature in space; K\n",
    "temp_equil = temp_sink + (area_projected / area_emitting * absorptivity / \n",
    "                          emissivity * q_solar / S_B)**0.25\n",
    "print(\"Equilibrium surface temperature =\", \"{:.0f}\".format(temp_equil), \"K\")"
   ]
  },
  {
   "attachments": {},
   "cell_type": "markdown",
   "metadata": {},
   "source": [
    "### Lunar Daytime Surface Temperature"
   ]
  },
  {
   "attachments": {},
   "cell_type": "markdown",
   "metadata": {},
   "source": [
    "For a lunar lander on the surface of the moon at 0 degrees latitude (equator) in a highland region, calculate the approximate daytime surface temperature for running sensitivity analyses. How does this value change if the lander is near the south pole at 85 degrees south latitude?"
   ]
  },
  {
   "cell_type": "code",
   "execution_count": 2,
   "metadata": {},
   "outputs": [
    {
     "name": "stdout",
     "output_type": "stream",
     "text": [
      "Lunar surface temperature at 0 degrees latitude is 383 K\n",
      "Lunar surface temperature at 85 degrees latitude is 208 K\n"
     ]
    }
   ],
   "source": [
    "import math\n",
    "\n",
    "S_B = 5.67037441918e-8  # W/m^2-K^4; Stefan-Boltzmann constant\n",
    "\n",
    "# Inputs\n",
    "solar_constant = 1421  # W/m^2; solar heat flux at lunar surface (1315 to 1421)\n",
    "albedo_lunar = 0.16  # visible light (solar spectrum) albedo\n",
    "emissivity_ir = 0.975  # thermal infrared emissivity of the regolith\n",
    "latitude = (0., 85.)  # degrees south of equator\n",
    "\n",
    "# Lunar daytime surface temperature\n",
    "for z in latitude:\n",
    "    z_angle = z / 180 * math.pi  # radians; the solar zenith angle\n",
    "    temp_lunar_surf = (solar_constant * (1 - albedo_lunar) * math.cos(z_angle) / \n",
    "                   emissivity_ir / S_B)**0.25\n",
    "    print(\"Lunar surface temperature at\", \"{:.0f}\".format(z), \n",
    "          \"degrees latitude is\", \"{:.0f}\".format(temp_lunar_surf), \"K\")"
   ]
  },
  {
   "attachments": {},
   "cell_type": "markdown",
   "metadata": {},
   "source": [
    "### Variation in Lunar Temperature"
   ]
  },
  {
   "attachments": {},
   "cell_type": "markdown",
   "metadata": {},
   "source": [
    "What is the lunar surface daytime temperature when the sun is at a zenith angle of 45 degrees and the sub-solar temperature at the location is 383 K?"
   ]
  },
  {
   "cell_type": "code",
   "execution_count": 8,
   "metadata": {},
   "outputs": [
    {
     "name": "stdout",
     "output_type": "stream",
     "text": [
      "T(Z) = 351 K\n"
     ]
    }
   ],
   "source": [
    "import math\n",
    "\n",
    "# Inputs\n",
    "temp_subsolar = 383  # K; surface temp at sub-solar point\n",
    "z = 45  # degrees; relative to sub-solar point\n",
    "\n",
    "# Lunar daytime surface temperature variation T(Z)\n",
    "z_angle = z / 180 * math.pi  # radians; the solar zenith angle\n",
    "temp_day_variation = temp_subsolar * math.cos(z_angle)**0.25\n",
    "print(\"T(Z) =\", \"{:.0f}\".format(temp_day_variation), \"K\")"
   ]
  },
  {
   "attachments": {},
   "cell_type": "markdown",
   "metadata": {},
   "source": [
    "### Lunar orbit thermal - sunlit side only"
   ]
  },
  {
   "attachments": {},
   "cell_type": "markdown",
   "metadata": {},
   "source": [
    "What is the long wave thermal radiation from the surface for a spacecraft in lunar orbit assuming an average lunar bolometric albedo of 0.12; solar constant of 1367 W/m^2; and a solar incidence angle of 45 degress relative to normal?"
   ]
  },
  {
   "cell_type": "code",
   "execution_count": 7,
   "metadata": {},
   "outputs": [
    {
     "name": "stdout",
     "output_type": "stream",
     "text": [
      "Lunar long wave radiation on sunlit side = 851 W/m^2\n"
     ]
    }
   ],
   "source": [
    "import math\n",
    "\n",
    "# Inputs\n",
    "albedo = 0.12  # average lunar bolometric albedo\n",
    "solar_constant = 1367  # W/m^2; solar heat flux at lunar surface (1315 to 1421)\n",
    "i = 45  # degrees; solar incidence angle\n",
    "\n",
    "# Lunar longwave radiation on sunlit side\n",
    "angle_solar = i / 180 * math.pi  # radians; the solar incidence angle\n",
    "radiation_longwave = (1 - albedo) * solar_constant * math.cos(angle_solar)\n",
    "print(\"Lunar long wave radiation on sunlit side =\", \n",
    "      \"{:.0f}\".format(radiation_longwave), \"W/m^2\")"
   ]
  },
  {
   "attachments": {},
   "cell_type": "markdown",
   "metadata": {},
   "source": [
    "### Lunar orbit thermal - night or sunlit side"
   ]
  },
  {
   "attachments": {},
   "cell_type": "markdown",
   "metadata": {},
   "source": [
    "What is the long wave thermal radiaton from the surface for a spacecraft in lunar orbit on the night side with a sub-solar point surface temperature of 100 K and a surface long wave emissivity of 0.97?"
   ]
  },
  {
   "cell_type": "code",
   "execution_count": 6,
   "metadata": {},
   "outputs": [
    {
     "name": "stdout",
     "output_type": "stream",
     "text": [
      "Lunar long wave radiation on night side = 6 W/m^2\n"
     ]
    }
   ],
   "source": [
    "S_B = 5.67037441918e-8  # W/m^2-K^4; Stefan-Boltzmann constant\n",
    "\n",
    "# Inputs\n",
    "temp_subsolar = 100  # K; surface temp at sub-solar point\n",
    "emissivity_lw = 0.97  # long wave emissivity (0.95 to 0.98)\n",
    "\n",
    "# Lunar longwave radiation on sunlit side\n",
    "radiation_longwave = emissivity_lw * S_B * temp_subsolar**4\n",
    "print(\"Lunar long wave radiation on night side =\", \n",
    "      \"{:.0f}\".format(radiation_longwave), \"W/m^2\")"
   ]
  }
 ],
 "metadata": {
  "kernelspec": {
   "display_name": "Python 3 (ipykernel)",
   "language": "python",
   "name": "python3"
  },
  "language_info": {
   "codemirror_mode": {
    "name": "ipython",
    "version": 3
   },
   "file_extension": ".py",
   "mimetype": "text/x-python",
   "name": "python",
   "nbconvert_exporter": "python",
   "pygments_lexer": "ipython3",
   "version": "3.9.12"
  }
 },
 "nbformat": 4,
 "nbformat_minor": 2
}

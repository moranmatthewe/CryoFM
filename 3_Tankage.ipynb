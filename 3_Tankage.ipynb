{
 "cells": [
  {
   "attachments": {},
   "cell_type": "markdown",
   "metadata": {},
   "source": [
    "# Tankage"
   ]
  },
  {
   "attachments": {},
   "cell_type": "markdown",
   "metadata": {},
   "source": [
    "## Overview"
   ]
  },
  {
   "attachments": {},
   "cell_type": "markdown",
   "metadata": {},
   "source": [
    "Copyright 2024 Moran Innovation LLC\n",
    "\n",
    "   Licensed under the Apache License, Version 2.0 (the \"License\");\n",
    "   you may not use this file except in compliance with the License.\n",
    "   You may obtain a copy of the License at http://www.apache.org/licenses/LICENSE-2.0\n",
    "\n",
    "   Unless required by applicable law or agreed to in writing, software\n",
    "   distributed under the License is distributed on an \"AS IS\" BASIS,\n",
    "   WITHOUT WARRANTIES OR CONDITIONS OF ANY KIND, either express or implied.\n",
    "   See the License for the specific language governing permissions and\n",
    "   limitations under the License.\n",
    "\n",
    "CryoFM™ is a trademark of Moran Innovation LLC. All rights reserved."
   ]
  },
  {
   "attachments": {},
   "cell_type": "markdown",
   "metadata": {},
   "source": [
    "### Usage Notes"
   ]
  },
  {
   "attachments": {},
   "cell_type": "markdown",
   "metadata": {},
   "source": [
    "**HOW TO USE THIS INTERACTIVE NOTEBOOK:**\n",
    "* Use the table of contents icon and sidebar at the left to navigate to the topics of interest.\n",
    "* Change any of the input values and run the associated cell code.\n",
    "* If an interactive Binder web browser session is being used, the original file will not be altered. Therefore, if you wish to retain any modifications you make, save your file to local memory on your device.\n",
    "\n",
    "**CAUTION:** None of the code cells run automatically. The user must manually run selected code cells in sequence to achieve the desired results. Default units are SI.\n",
    "\n",
    "**REFERENCE REPORT AND TRAINING:** The reference report for this interactive notebook is \"Cryogenic fluid management of liquid hydrogen, oxygen, and methane: Part 1 - passive technologies, systems, and operations\",  Moran Innovation LLC, 2023. An online version of the report and training videos based on the content can be found here: https://sites.google.com/view/matthewemoran/training#h.ir8xm9d8wn6h."
   ]
  },
  {
   "attachments": {},
   "cell_type": "markdown",
   "metadata": {},
   "source": [
    "## Material Properties"
   ]
  },
  {
   "cell_type": "markdown",
   "metadata": {},
   "source": [
    "Many material properties are a nonlinear as a function of temperature in the cryogenic range.\n",
    "Mechanical properties that can vary significantly at low temperature include [Flynn, Cryogenic Engineering, 2nd ed., 2005]:\n",
    "* Yield and ultimate strength: generally increases at lower temperatures for most solids\n",
    "* Ductility: some materials remain ductile (e.g., aluminum alloys, austenitic stainless steel\n",
    "with > 7% nickel, most face-centered cubic metals); while some materials become brittle\n",
    "(carbon steel, most plastics, most body-centered cubic metals)\n",
    "* Elastic modulus: varies\n",
    "* Fatigue strength: varies\n",
    "\n",
    "Thermal properties are highly temperature dependent at cryogenic temperatures including\n",
    "thermal conductivity and specific heat. Accurate analysis of conduction heat transfer and thermal\n",
    "energy capacitance require integration of these properties over the relevant temperature range.\n",
    "\n",
    "NIST provides an online calculator for this purpose at: https://trc.nist.gov/cryogenics/calculators/graphcalc.html. Curve fits of data or published integrals for selected materials can also be used."
   ]
  },
  {
   "cell_type": "markdown",
   "metadata": {},
   "source": [
    "Tank geometry calculations reference: Lutus, “Storage Container Mathematics”, 2017.\n",
    "(https://arachnoid.com/storage_container_mathematics/resources/storage_container_mathematics.pdf)"
   ]
  },
  {
   "cell_type": "markdown",
   "metadata": {},
   "source": [
    "## Heat Loads"
   ]
  },
  {
   "cell_type": "markdown",
   "metadata": {},
   "source": [
    "### Solid Thermal Conduction"
   ]
  },
  {
   "cell_type": "code",
   "execution_count": 3,
   "metadata": {},
   "outputs": [
    {
     "name": "stdout",
     "output_type": "stream",
     "text": [
      "Stainless steel 304 pipe: 110 K to 300 K\n",
      "Conduction heat transfer = 5.0606e+02 W\n"
     ]
    }
   ],
   "source": [
    "# Inputs\n",
    "description = 'Stainless steel 304 pipe: 110 K to 300 K'\n",
    "shape_factor = 0.208  # m, area divided by length or equiv for other shapes\n",
    "cond_integ = 2433  # W/m, conduction integral for temp range from table or NIST\n",
    "\n",
    "# Solid conduction heat transfer\n",
    "cond_ht = shape_factor * cond_integ\n",
    "print(description)\n",
    "print(\"Conduction heat transfer =\", \"{:.4e}\".format(cond_ht), \"W\")"
   ]
  },
  {
   "cell_type": "markdown",
   "metadata": {},
   "source": [
    "### Solid Thermal Capacitance (heat absorbed or dissipated)"
   ]
  },
  {
   "cell_type": "code",
   "execution_count": 4,
   "metadata": {},
   "outputs": [
    {
     "name": "stdout",
     "output_type": "stream",
     "text": [
      "Stainless steel 304 structure: chilldown from 300 K to 110 K\n",
      "Heat absorbed or dissipated = 7.8136e+01 kJ\n"
     ]
    }
   ],
   "source": [
    "# Inputs\n",
    "description = 'Stainless steel 304 structure: chilldown from 300 K to 110 K'\n",
    "mass = 1.  # kg, material mass\n",
    "cp_integ = 78136 # J/kg-K, specific heat integral in temp range from NIST\n",
    "\n",
    "# Solid heat absorbed or dissipated\n",
    "heat_out = mass * cp_integ/1000  # kJ, heat in (+) or out(-)\n",
    "print(description)\n",
    "print(\"Heat absorbed or dissipated =\", \"{:.4e}\".format(heat_out), \"kJ\")"
   ]
  },
  {
   "cell_type": "markdown",
   "metadata": {},
   "source": [
    "### Insulation Heat Transfer"
   ]
  },
  {
   "cell_type": "code",
   "execution_count": 5,
   "metadata": {},
   "outputs": [
    {
     "name": "stdout",
     "output_type": "stream",
     "text": [
      "MLI at 0.01 mtorr\n",
      "Estimated heat leak through MLI= 4.4882e-01 W\n"
     ]
    }
   ],
   "source": [
    "# Inputs\n",
    "description = 'MLI at 0.01 mtorr'\n",
    "conductivity = 3.E-5  # W/m-K\n",
    "thickness = 2.54E-2  # m\n",
    "area = 1  # m^2\n",
    "temp_hot = 300  # K\n",
    "temp_cold = 110  # K\n",
    "degrad_factor = 2.0  # degradation due to seams, penetrations, etc.\n",
    "\n",
    "# Insulation thermal performance based on apparent thermal conductivity\n",
    "heat_leak = conductivity * area / thickness * (temp_hot - temp_cold) * \\\n",
    "            degrad_factor\n",
    "print(description)\n",
    "print(\"Estimated heat leak through MLI=\", \"{:.4e}\".format(heat_leak), \"W\")"
   ]
  },
  {
   "cell_type": "markdown",
   "metadata": {},
   "source": [
    "### Thermal Radiation (Gray Diffuse)"
   ]
  },
  {
   "cell_type": "code",
   "execution_count": 6,
   "metadata": {},
   "outputs": [
    {
     "name": "stdout",
     "output_type": "stream",
     "text": [
      "Gray diffuse radiative flux between parallel infinite plates\n",
      "Net radiation heat flux 7.9588e+01 W/m^2\n"
     ]
    }
   ],
   "source": [
    "S_B = 5.67037441918e-8  # W/m^2-K^4; Stefan-Boltzmann constant\n",
    "\n",
    "# Inputs\n",
    "description = 'Gray diffuse radiative flux between parallel infinite plates'\n",
    "temp1 = 300  # K, temperature of surface 1\n",
    "temp2 = 110  # K, temperature of surface 2\n",
    "emiss1 = 0.3  # emissivity of surface 1\n",
    "emiss2 = 0.3  # emissivity of surface 2\n",
    "\n",
    "# Net gray diffuse radiation between two parallel infinite plates\n",
    "heat_flux = S_B * (temp1**4 - temp2**4)/(1/emiss1 + 1/emiss2 -1)\n",
    "print(description)\n",
    "print(\"Net radiation heat flux\", \"{:.4e}\".format(heat_flux), \"W/m^2\")"
   ]
  },
  {
   "cell_type": "markdown",
   "metadata": {},
   "source": [
    "## Tank Sizing"
   ]
  },
  {
   "cell_type": "markdown",
   "metadata": {},
   "source": [
    "### Tank volume required"
   ]
  },
  {
   "cell_type": "code",
   "execution_count": 1,
   "metadata": {},
   "outputs": [
    {
     "name": "stdout",
     "output_type": "stream",
     "text": [
      "Tank volume based on max pressure when full\n",
      "Required tank volume = 1.5047e+02 m^3\n"
     ]
    }
   ],
   "source": [
    "import CoolProp.CoolProp as cp\n",
    "\n",
    "# Inputs\n",
    "description = 'Tank volume based on max pressure when full'\n",
    "fluid = 'Oxygen'\n",
    "mass_liquid = 1.49E5  # kg, liquid mass required\n",
    "ullage_fraction = 0.05  # minimum ullage gas by volume required\n",
    "press_tank = 5.0E5  # Pa, max pressure when tank is full\n",
    "\n",
    "# Estimate tank volume required based on conditions\n",
    "density_liquid = cp.PropsSI('D', 'P', press_tank, 'Q', 0, fluid)\n",
    "volume_tank = mass_liquid / density_liquid / (1 - ullage_fraction)\n",
    "print(description)\n",
    "print(\"Required tank volume =\", \"{:.4e}\".format(volume_tank), \"m^3\")"
   ]
  },
  {
   "cell_type": "markdown",
   "metadata": {},
   "source": [
    "### Tank Shape and Dimensions"
   ]
  },
  {
   "cell_type": "code",
   "execution_count": 9,
   "metadata": {},
   "outputs": [
    {
     "name": "stdout",
     "output_type": "stream",
     "text": [
      "Tank volume of 1.5051e+02 m^2 options:\n",
      "* Sphere with an internal diameter = 6.5996e+00 m\n",
      "* Oblate spheroid with internal diameter = 8.0003e+00 m\n",
      "    and an internal height of = 4.4910e+00 m\n",
      "    with a height-to-diameter ratio of = 0.56\n",
      "* Cylinder with hemispherical ends and internal diameter = 5.0000e+00 m\n",
      "    and cylindrical length of = 4.3319e+00 m\n",
      "    for a total inside length of = 9.3319e+00 m\n",
      "    with a length-to-diameter ratio of = 1.87\n",
      "* Cylinder with elliptical ends and internal diameter = 5.0000e+00 m\n",
      "    and cylindrical length of = 5.9985e+00 m\n",
      "    for a total inside length of = 8.4985e+00 m\n",
      "    with a length-to-diameter ratio of = 1.70\n",
      "* Cylinder with hemispherical ends (one inverted for common bulkhead)\n",
      "    internal diameter = 5.0000e+00 m\n",
      "    and cylindrical length of = 7.6652e+00 m\n",
      "    for a total inside length of = 1.0165e+01 m\n",
      "    with a length-to-diameter ratio of = 2.03\n",
      "* Cylinder with elliptical ends (one inverted for common bulkhead)\n",
      "    internal diameter = 5.0000e+00 m\n",
      "    and cylindrical length of = 7.6652e+00 m\n",
      "    for a total inside length of = 8.9152e+00 m\n",
      "    with a length-to-diameter ratio of = 1.78\n"
     ]
    }
   ],
   "source": [
    "import math\n",
    "\n",
    "# Inputs (all dimensions are inside)\n",
    "volume_tank = 150.50586  # m^3, required tank volume\n",
    "diam_cyl = 5.0  # m, diameter for cylindrical tanks\n",
    "oblate_height = 4.491  # height of oblate spheroid tank\n",
    "ellip_ratio = 2.0  # radius ratio for elliptical ends (R/r > 1)\n",
    "print('Tank volume of', \"{:.4e}\".format(volume_tank), \"m^2 options:\")\n",
    "\n",
    "# Spherical tank\n",
    "diam_inside = 2. * (volume_tank * 3./4. / math.pi)**(1./3.)\n",
    "print(\"* Sphere with an internal diameter =\",\"{:.4e}\".format(diam_inside), \"m\")\n",
    "\n",
    "# Oblate spheroid tank\n",
    "diam = 2 * math.sqrt(3 * volume_tank / 4 / math.pi / (oblate_height/2))\n",
    "oblate_ratio = oblate_height / diam\n",
    "print(\"* Oblate spheroid with internal diameter =\",\"{:.4e}\".format(diam), \"m\")\n",
    "print(\"    and an internal height of =\",\"{:.4e}\".format(oblate_height), \"m\")\n",
    "print(\"    with a height-to-diameter ratio of =\",\"{:.2f}\".format(oblate_ratio))\n",
    "\n",
    "# Cylindrical tank (hemispherical ends)\n",
    "length_cyl = volume_tank / math.pi / (diam_cyl/2)**2 - 4./3. * (diam_cyl/2)\n",
    "length_tot = length_cyl + 2 * (diam_cyl/2)  # cylinder plus hemi ends\n",
    "ld_ratio = length_tot / diam_cyl\n",
    "print(\"* Cylinder with hemispherical ends and internal diameter =\", \"{:.4e}\"\\\n",
    "      .format(diam_cyl), \"m\")\n",
    "print(\"    and cylindrical length of =\",\"{:.4e}\".format(length_cyl), \"m\")\n",
    "print(\"    for a total inside length of =\",\"{:.4e}\".format(length_tot), \"m\")\n",
    "print(\"    with a length-to-diameter ratio of =\",\"{:.2f}\".format(ld_ratio))\n",
    "\n",
    "# Cylindrical (elliptical ends)\n",
    "length_cyl = volume_tank / math.pi / (diam_cyl/2)**2 - 4./3. * \\\n",
    "            (diam_cyl/2 / ellip_ratio)\n",
    "length_tot = length_cyl + 2 * (diam_cyl/2 / ellip_ratio)  # cylinder plus ends\n",
    "ld_ratio = length_tot / diam_cyl\n",
    "print(\"* Cylinder with elliptical ends and internal diameter =\", \"{:.4e}\"\\\n",
    "      .format(diam_cyl), \"m\")\n",
    "print(\"    and cylindrical length of =\",\"{:.4e}\".format(length_cyl), \"m\")\n",
    "print(\"    for a total inside length of =\",\"{:.4e}\".format(length_tot), \"m\")\n",
    "print(\"    with a length-to-diameter ratio of =\",\"{:.2f}\".format(ld_ratio))\n",
    "\n",
    "# Cylindrical (hemispherical ends, one inverted for common bulkhead)\n",
    "length_cyl = volume_tank / math.pi / (diam_cyl/2)**2\n",
    "length_tot = length_cyl + (diam_cyl/2)  # cylinder plus non-inverted end\n",
    "ld_ratio = length_tot / diam_cyl\n",
    "print(\"* Cylinder with hemispherical ends (one inverted for common bulkhead)\")\n",
    "print(\"    internal diameter =\", \"{:.4e}\".format(diam_cyl), \"m\")\n",
    "print(\"    and cylindrical length of =\",\"{:.4e}\".format(length_cyl), \"m\")\n",
    "print(\"    for a total inside length of =\",\"{:.4e}\".format(length_tot), \"m\")\n",
    "print(\"    with a length-to-diameter ratio of =\",\"{:.2f}\".format(ld_ratio))\n",
    "\n",
    "# Cylindrical (elliptical ends, one inverted for common bulkhead)\n",
    "length_cyl = volume_tank / math.pi / (diam_cyl/2)**2\n",
    "length_tot = length_cyl + (diam_cyl/2/ellip_ratio)  # cylinder plus non-inverted end\n",
    "ld_ratio = length_tot / diam_cyl\n",
    "print(\"* Cylinder with elliptical ends (one inverted for common bulkhead)\")\n",
    "print(\"    internal diameter =\", \"{:.4e}\".format(diam_cyl), \"m\")\n",
    "print(\"    and cylindrical length of =\",\"{:.4e}\".format(length_cyl), \"m\")\n",
    "print(\"    for a total inside length of =\",\"{:.4e}\".format(length_tot), \"m\")\n",
    "print(\"    with a length-to-diameter ratio of =\",\"{:.2f}\".format(ld_ratio))"
   ]
  },
  {
   "cell_type": "markdown",
   "metadata": {},
   "source": [
    "### Minimum Wall Thickness"
   ]
  },
  {
   "cell_type": "code",
   "execution_count": 7,
   "metadata": {},
   "outputs": [
    {
     "name": "stdout",
     "output_type": "stream",
     "text": [
      "Failure mode is: tensile\n",
      "Minimum wall thickness is: 2.450e-03 m\n"
     ]
    }
   ],
   "source": [
    "import math\n",
    "\n",
    "#Inputs\n",
    "tank_shape = 'sphere' # sphere or cylinder\n",
    "press_internal = 5.0e5  # Pa, internal tank pressure\n",
    "press_external = 0.0e5  # Pa, external pressure (vacuum jacket ~ 0)\n",
    "radius_tank = 3.3  # m, spherical or cylindrical tank radius\n",
    "stress_allowable = 5.05e8  # Pa, maximum allowable stress for methodology used\n",
    "safety_factor_t = 1.5  # for tensile load based allowable stress\n",
    "safety_factor_b= 4.0  # for buckling load\n",
    "mod_elasticity = 193.e9  # Pa, modulus of elasticity for tank material\n",
    "poisson = 0.29  # Poisson's ratio for tank material\n",
    "length = 0.3  # m, length of cylinder (or buckling support spacing)\n",
    "\n",
    "# Check failure mode (tensile or buckling)\n",
    "if press_internal - press_external >= 0.:  # tensile failure mode\n",
    "    failure_mode = \"tensile\"\n",
    "    if tank_shape == 'sphere':\n",
    "        wall_thickness = safety_factor_t * (press_internal - press_external)\\\n",
    "                        * radius_tank / (2 * stress_allowable)\n",
    "    elif tank_shape == 'cylinder':\n",
    "        wall_thickness = safety_factor_t * (press_internal - press_external)\\\n",
    "                        * radius_tank / stress_allowable\n",
    "    else: print(\"Error: tank shape must be sphere or cylinder\")\n",
    "else:  # buckling failure mode (external pressure is greater than internal)\n",
    "     failure_mode = \"buckling\"\n",
    "     if tank_shape == 'sphere':\n",
    "        wall_thickness = math.sqrt(safety_factor_b * (press_internal\n",
    "                         - press_external) * (3 * (1 - poisson**2))**0.5 / (-2\n",
    "                         * mod_elasticity)) * radius_tank\n",
    "     elif tank_shape == 'cylinder':\n",
    "        thickness_short = safety_factor_b * (press_external - press_internal)\\\n",
    "                          * radius_tank / stress_allowable\n",
    "        thickness_long = safety_factor_b * (4 * radius_tank**3 * (press_external\n",
    "                         - press_internal) * (1 - poisson**2) / mod_elasticity\n",
    "                         )**(1./3.)\n",
    "        thickness_inter = safety_factor_b * ((2 * radius_tank)**1.5 * \n",
    "                         (press_external - press_internal) * length / (2.6\n",
    "                         * mod_elasticity))**(1/2.5)\n",
    "        length_crit = 1.11 * 2 * radius_tank * math.sqrt(2 * radius_tank\n",
    "                                                         / thickness_long)\n",
    "        if length > length_crit:\n",
    "            wall_thickness = thickness_long\n",
    "        else:\n",
    "            wall_thickness = max(thickness_inter, thickness_short)\n",
    "     else: print(\"Error: tank shape must be sphere or cylinder\")\n",
    "print(\"Failure mode is:\", failure_mode)\n",
    "print(\"Minimum wall thickness is:\", \"{:.3e}\".format(wall_thickness), \"m\")"
   ]
  },
  {
   "attachments": {},
   "cell_type": "markdown",
   "metadata": {},
   "source": [
    "### Maximum Pressure Differential"
   ]
  },
  {
   "cell_type": "code",
   "execution_count": 8,
   "metadata": {},
   "outputs": [
    {
     "name": "stdout",
     "output_type": "stream",
     "text": [
      "Failure mode is: tensile\n",
      "Maximum pressure differential is: 4.999e+05 Pa\n"
     ]
    }
   ],
   "source": [
    "import math\n",
    "\n",
    "# Inputs\n",
    "tank_shape = 'sphere' # sphere or cylinder\n",
    "failure_mode = 'tensile'  # tensile or buckling (determines equation used)\n",
    "wall_thickness = 2.45e-3  #m, wall thickness\n",
    "radius_tank = 3.3  # m, spherical or cylindrical tank radius\n",
    "stress_allowable = 5.05e8  # Pa, maximum allowable stress for methodology used\n",
    "safety_factor_t = 1.5  # for tensile load based on allowable stress\n",
    "safety_factor_b= 4.0  # for buckling load\n",
    "mod_elasticity = 193.e9  # Pa, modulus of elasticity for tank material\n",
    "poisson = 0.29  # Poisson's ratio for tank material\n",
    "length = 0.3  # m, length of cylinder (or buckling support spacing)\n",
    "\n",
    "# Check failure mode (tensile or buckling)\n",
    "if failure_mode == 'tensile':  # tensile failure mode\n",
    "    if tank_shape == 'sphere':\n",
    "        press_delta = wall_thickness/ safety_factor_t /radius_tank * (2\n",
    "                                                            * stress_allowable)\n",
    "    elif tank_shape == 'cylinder':\n",
    "        press_delta = wall_thickness / safety_factor_t /radius_tank\\\n",
    "                      * stress_allowable\n",
    "    else: print(\"Error: tank shape must be sphere or cylinder\")\n",
    "else:  # buckling failure mode (external pressure is greater than internal)\n",
    "     if tank_shape == 'sphere':\n",
    "        press_delta = -2 * mod_elasticity / safety_factor_b / (3 * (1 - \n",
    "                      poisson**2))**0.5 * (wall_thickness / radius_tank)**2\n",
    "     elif tank_shape == 'cylinder':\n",
    "        length_crit = 1.11 * 2 * radius_tank * math.sqrt(2 * radius_tank\n",
    "                                                         / wall_thickness)\n",
    "        if length_crit < length:  # cylinder is long\n",
    "            press_delta = (wall_thickness / safety_factor_b)**3 * (\n",
    "                mod_elasticity / 4 / radius_tank**3 / (1 - poisson**2))\n",
    "        else:  # cylinder is short or intermediate\n",
    "            press_delta_short = wall_thickness / safety_factor_b / radius_tank\\\n",
    "                                * stress_allowable\n",
    "            press_delta_inter = (wall_thickness / safety_factor_b)**2.5 * (2.6\n",
    "                              * mod_elasticity / 2 / radius_tank**1.5 / length)\n",
    "            press_delta = max (press_delta_short, press_delta_inter)\n",
    "     else: print(\"Error: tank shape must be sphere or cylinder\")\n",
    "print(\"Failure mode is:\", failure_mode)\n",
    "print(\"Maximum pressure differential is:\", \"{:.3e}\".format(press_delta), \"Pa\")"
   ]
  },
  {
   "cell_type": "markdown",
   "metadata": {},
   "source": [
    "### Tank Dry Mass Estimation"
   ]
  },
  {
   "cell_type": "code",
   "execution_count": 14,
   "metadata": {},
   "outputs": [
    {
     "name": "stdout",
     "output_type": "stream",
     "text": [
      "Sphere dry mass = 2.737e+03 kg\n",
      "Cylinder dry mass = 2.073e+03 kg\n",
      "Ellipsoid dry mass = 1.889e+03 kg\n"
     ]
    }
   ],
   "source": [
    "import math\n",
    "\n",
    "# Inputs\n",
    "thickness = 2.5e-3  # m, wall thickness\n",
    "length = 5.0  # m, cylinder section length\n",
    "radius = 3.3  # m, radius of cylinder or sphere; or ellipsoid major radius\n",
    "radius_minor = 1.65  # m, ellipsoid minor radius\n",
    "density = 8000.  # kg/m^3, wall material density\n",
    "\n",
    "# Surface areas\n",
    "area_sphere = 4. * math.pi * radius**2\n",
    "area_cylinder = 2. * math.pi * radius * length\n",
    "area_ellipsoid = 2. * (math.pi * radius_minor**2 * math.atanh(math.sqrt(1 - \n",
    "                 radius_minor**2 / radius**2)) + math.pi * radius**2 * \n",
    "                 math.sqrt(1 - radius_minor**2 / radius**2)) / math.sqrt(1 - \n",
    "                 radius_minor**2 / radius**2)\n",
    "\n",
    "# Dry mass\n",
    "print(\"Sphere dry mass =\", \"{:.3e}\".format(area_sphere * thickness * density), \n",
    "      \"kg\")\n",
    "print(\"Cylinder dry mass =\", \"{:.3e}\".format(area_cylinder * thickness *\n",
    "       density), \"kg\")\n",
    "print(\"Ellipsoid dry mass =\", \"{:.3e}\".format(area_ellipsoid * thickness *\n",
    "       density), \"kg\")\n"
   ]
  }
 ],
 "metadata": {
  "kernelspec": {
   "display_name": "Python 3 (ipykernel)",
   "language": "python",
   "name": "python3"
  },
  "language_info": {
   "codemirror_mode": {
    "name": "ipython",
    "version": 3
   },
   "file_extension": ".py",
   "mimetype": "text/x-python",
   "name": "python",
   "nbconvert_exporter": "python",
   "pygments_lexer": "ipython3",
   "version": "3.11.5"
  }
 },
 "nbformat": 4,
 "nbformat_minor": 2
}

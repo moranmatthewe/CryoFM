{
 "cells": [
  {
   "attachments": {},
   "cell_type": "markdown",
   "metadata": {},
   "source": [
    "# Tankage"
   ]
  },
  {
   "attachments": {},
   "cell_type": "markdown",
   "metadata": {},
   "source": [
    "## Overview"
   ]
  },
  {
   "attachments": {},
   "cell_type": "markdown",
   "metadata": {},
   "source": [
    "Copyright 2023 Moran Innovation LLC\n",
    "\n",
    "   Licensed under the Apache License, Version 2.0 (the \"License\");\n",
    "   you may not use this file except in compliance with the License.\n",
    "   You may obtain a copy of the License at http://www.apache.org/licenses/LICENSE-2.0\n",
    "\n",
    "   Unless required by applicable law or agreed to in writing, software\n",
    "   distributed under the License is distributed on an \"AS IS\" BASIS,\n",
    "   WITHOUT WARRANTIES OR CONDITIONS OF ANY KIND, either express or implied.\n",
    "   See the License for the specific language governing permissions and\n",
    "   limitations under the License.\n",
    "\n",
    "CryoFM™ is a trademark of Moran Innovation LLC. All rights reserved."
   ]
  },
  {
   "attachments": {},
   "cell_type": "markdown",
   "metadata": {},
   "source": [
    "### Usage Notes"
   ]
  },
  {
   "attachments": {},
   "cell_type": "markdown",
   "metadata": {},
   "source": [
    "**HOW TO USE THIS INTERACTIVE NOTEBOOK:**\n",
    "* Use the table of contents icon and sidebar at the left to navigate to the topics of interest.\n",
    "* Change any of the input values and run the associated cell code.\n",
    "* If an interactive Binder web browser session is being used, the original file will not be altered. Therefore, if you wish to retain any modifications you make, save your file to local memory on your device.\n",
    "\n",
    "**CAUTION:** None of the code cells run automatically. The user must manually run selected code cells in sequence to achieve the desired results. Default units are SI.\n",
    "\n",
    "**REFERENCE REPORT AND TRAINING:** The reference report for this interactive notebook is \"Cryogenic fluid management of liquid hydrogen, oxygen, and methane: Part 1 - passive technologies, systems, and operations\",  Moran Innovation LLC, 2023. An online version of the report and training videos based on the content can be found here: https://sites.google.com/view/matthewemoran/training#h.ir8xm9d8wn6h."
   ]
  },
  {
   "attachments": {},
   "cell_type": "markdown",
   "metadata": {},
   "source": [
    "## Material Properties"
   ]
  },
  {
   "cell_type": "markdown",
   "metadata": {},
   "source": [
    "Many material properties are a nonlinear as a function of temperature in the cryogenic range.\n",
    "Mechanical properties that can vary significantly at low temperature include [Flynn, Cryogenic Engineering, 2nd ed., 2005]:\n",
    "* Yield and ultimate strength: generally increases at lower temperatures for most solids\n",
    "* Ductility: some materials remain ductile (e.g., aluminum alloys, austenitic stainless steel\n",
    "with > 7% nickel, most face-centered cubic metals); while some materials become brittle\n",
    "(carbon steel, most plastics, most body-centered cubic metals)\n",
    "* Elastic modulus: varies\n",
    "* Fatigue strength: varies\n",
    "\n",
    "Thermal properties are highly temperature dependent at cryogenic temperatures including\n",
    "thermal conductivity and specific heat. Accurate analysis of conduction heat transfer and thermal\n",
    "energy capacitance require integration of these properties over the relevant temperature range.\n",
    "\n",
    "NIST provides an online calculator for this purpose at: https://trc.nist.gov/cryogenics/calculators/graphcalc.html. Curve fits of data or published integrals for selected materials can also be used."
   ]
  },
  {
   "cell_type": "markdown",
   "metadata": {},
   "source": [
    "### Solid Thermal Conduction"
   ]
  },
  {
   "cell_type": "code",
   "execution_count": 8,
   "metadata": {},
   "outputs": [
    {
     "name": "stdout",
     "output_type": "stream",
     "text": [
      "stainless steel 304 pipe: 110 K to 300 K\n",
      "Conduction heat transfer = 506.1 W\n"
     ]
    }
   ],
   "source": [
    "# Solid conduction heat transfer\n",
    "description = 'stainless steel 304 pipe: 110 K to 300 K'\n",
    "shape_factor = 0.208  # m, crossectional area divided by length (or equiv for other shapes)\n",
    "cond_integ = 2433  # W/m, from conduction integral table or NIST online calculator for temp range\n",
    "cond_ht = shape_factor * cond_integ\n",
    "\n",
    "print(description)\n",
    "print(\"Conduction heat transfer =\", \"{:.1f}\".format(cond_ht), \"W\")"
   ]
  },
  {
   "cell_type": "markdown",
   "metadata": {},
   "source": [
    "### Solid Thermal Capacitance (heat absorbed or dissipated)"
   ]
  },
  {
   "cell_type": "code",
   "execution_count": 9,
   "metadata": {},
   "outputs": [
    {
     "name": "stdout",
     "output_type": "stream",
     "text": [
      "stainless steel 304 structure: chilldown from 300 K to 110 K\n",
      "Heat absorbed or dissipated = 78.1 kJ\n"
     ]
    }
   ],
   "source": [
    "# Solid heat absorbed or dissipated (equation 3.2)\n",
    "description = 'stainless steel 304 structure: chilldown from 300 K to 110 K'\n",
    "mass = 1.  # kg, material mass\n",
    "cp_integ = 78136 # J/kg-K, from NIST online calculator using initial and final temps\n",
    "heat_out = mass * cp_integ/1000  # kJ, heat in (+) or out(-)\n",
    "\n",
    "print(description)\n",
    "print(\"Heat absorbed or dissipated =\", \"{:.1f}\".format(heat_out), \"kJ\")"
   ]
  },
  {
   "attachments": {},
   "cell_type": "markdown",
   "metadata": {},
   "source": [
    "## Calculation Examples"
   ]
  }
 ],
 "metadata": {
  "kernelspec": {
   "display_name": "Python 3 (ipykernel)",
   "language": "python",
   "name": "python3"
  },
  "language_info": {
   "codemirror_mode": {
    "name": "ipython",
    "version": 3
   },
   "file_extension": ".py",
   "mimetype": "text/x-python",
   "name": "python",
   "nbconvert_exporter": "python",
   "pygments_lexer": "ipython3",
   "version": "3.11.5"
  }
 },
 "nbformat": 4,
 "nbformat_minor": 2
}

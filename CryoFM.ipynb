{
 "cells": [
  {
   "cell_type": "markdown",
   "id": "f63b50b0-392f-450b-922a-568fb5dead4f",
   "metadata": {},
   "source": [
    "# Open Source License"
   ]
  },
  {
   "cell_type": "markdown",
   "id": "06e8bb75",
   "metadata": {},
   "source": [
    "Copyright 2022 Moran Innovation LLC\n",
    "\n",
    "   Licensed under the Apache License, Version 2.0 (the \"License\");\n",
    "   you may not use this file except in compliance with the License.\n",
    "   You may obtain a copy of the License at\n",
    "\n",
    "       http://www.apache.org/licenses/LICENSE-2.0\n",
    "\n",
    "   Unless required by applicable law or agreed to in writing, software\n",
    "   distributed under the License is distributed on an \"AS IS\" BASIS,\n",
    "   WITHOUT WARRANTIES OR CONDITIONS OF ANY KIND, either express or implied.\n",
    "   See the License for the specific language governing permissions and\n",
    "   limitations under the License."
   ]
  },
  {
   "cell_type": "markdown",
   "id": "67c2b0f1",
   "metadata": {
    "tags": []
   },
   "source": [
    "# Imports"
   ]
  },
  {
   "cell_type": "code",
   "execution_count": 49,
   "id": "c02d542f",
   "metadata": {},
   "outputs": [],
   "source": [
    "import CoolProp.CoolProp as CP # for evaluating fluid thermophysical properties"
   ]
  },
  {
   "cell_type": "markdown",
   "id": "5e8e1635",
   "metadata": {},
   "source": [
    "# Dimensionless Numbers"
   ]
  },
  {
   "cell_type": "markdown",
   "id": "38c2ef09-3c46-4a50-873b-4fdd92db5213",
   "metadata": {
    "tags": []
   },
   "source": [
    "## Bond Number"
   ]
  },
  {
   "cell_type": "code",
   "execution_count": 50,
   "id": "012e106f-5541-4774-85ae-f163cc6c3e31",
   "metadata": {},
   "outputs": [],
   "source": [
    "#Inputs\n",
    "accel = 9.81E-6     # local acceleration at the interface, m/s^2\n",
    "diam_fs = 6.6       # free surface diameter at the interface, m\n",
    "pressure = 2E5      # saturation pressure at the interface, Pa\n",
    "fluid = 'Oxygen'    # see http://www.coolprop.org/fluid_properties/PurePseudoPure.html for list of supported fluids"
   ]
  },
  {
   "cell_type": "code",
   "execution_count": 51,
   "id": "b44350f3-a626-4365-8da3-3c30ef44c318",
   "metadata": {
    "tags": []
   },
   "outputs": [
    {
     "name": "stdout",
     "output_type": "stream",
     "text": [
      "density_liquid = 1105.401189711224 kg/m^3\n",
      "density_vapor = 8.354467802255993 kg/m^3\n",
      "surf_tens = 0.011405531150268775 Pa-s\n"
     ]
    }
   ],
   "source": [
    "#Fluid properties\n",
    "density_liquid = CP.PropsSI('D', 'P', pressure, 'Q', 0, fluid)                # saturated liquid density, kg/m^3\n",
    "density_vapor = CP.PropsSI('D', 'P', pressure, 'Q', 1, fluid)                 # saturated vapor density, kg/m^3\n",
    "surf_tension = CP.PropsSI('surface_tension', 'P', pressure, 'Q', 0, fluid)    # saturated surface tension, N/m\n",
    "print(\"density_liquid =\", density_liquid, \"kg/m^3\")\n",
    "print(\"density_vapor =\", density_vapor, \"kg/m^3\")\n",
    "print(\"surf_tens =\", surf_tension, \"Pa-s\")"
   ]
  },
  {
   "cell_type": "code",
   "execution_count": 52,
   "id": "d4c3f02d-7ea1-4a53-aeec-b43bf7ac960e",
   "metadata": {},
   "outputs": [],
   "source": [
    "#Function definition\n",
    "def bond(accel, diam_fs, density_liquid, density_vapor, surf_tension):\n",
    "    return (density_liquid - density_vapor) * accel * (diam_fs)**2 / surf_tension"
   ]
  },
  {
   "cell_type": "code",
   "execution_count": 53,
   "id": "8dafed1c-c393-41a0-aaf3-091ba40f3395",
   "metadata": {
    "tags": []
   },
   "outputs": [
    {
     "name": "stdout",
     "output_type": "stream",
     "text": [
      "Bond number = 41.10233433217108\n"
     ]
    }
   ],
   "source": [
    "#Result\n",
    "if(abs(bond(9.81E-6, 6.6, 1105.401189711224, 8.354467802255993, 0.011405531150268775) - 41.1)) > 0.1:\n",
    "    print(\"WARNING: Failed verification case\")\n",
    "else:\n",
    "    print(\"Bond number =\", bond(accel, diam_fs, density_liquid, density_vapor, surf_tension))"
   ]
  },
  {
   "cell_type": "markdown",
   "id": "cd43bbaf",
   "metadata": {
    "tags": []
   },
   "source": [
    "## Reynolds Number"
   ]
  },
  {
   "cell_type": "code",
   "execution_count": 54,
   "id": "f2dd45d3",
   "metadata": {
    "tags": []
   },
   "outputs": [],
   "source": [
    "#Inputs\n",
    "length = 0.1        # characteristic length or hydraulic diameter = 4*area/wetted perimeter, m\n",
    "velocity = 10       # fluid velocity, m/s\n",
    "temp = 97           # bulk fluid temperature, K\n",
    "pressure = 2E5      # dynamic pressure, Pa\n",
    "fluid = 'Oxygen'    # see http://www.coolprop.org/fluid_properties/PurePseudoPure.html for list of supported fluids"
   ]
  },
  {
   "cell_type": "code",
   "execution_count": 55,
   "id": "b27ded7d-528a-4839-83d2-3067442df7ac",
   "metadata": {
    "tags": []
   },
   "outputs": [
    {
     "name": "stdout",
     "output_type": "stream",
     "text": [
      "density = 1106.6351294355363 kg/m^3\n",
      "visc_dynamic = 1.638896e-04 Pa-s\n"
     ]
    }
   ],
   "source": [
    "#Fluid properties\n",
    "density = CP.PropsSI('D', 'T', temp, 'P', pressure, fluid)         # fluid density, kg/m^3\n",
    "visc_dynamic = CP.PropsSI('V', 'T', temp, 'P', pressure, fluid)    # dynamic viscosity, Pa-s\n",
    "print(\"density =\", density, \"kg/m^3\")\n",
    "print(\"visc_dynamic =\", \"{:e}\".format(visc_dynamic), \"Pa-s\")"
   ]
  },
  {
   "cell_type": "code",
   "execution_count": 56,
   "id": "1cba48a0",
   "metadata": {
    "tags": []
   },
   "outputs": [],
   "source": [
    "#Function definition\n",
    "def reynolds(density, velocity, length, visc_dynamic):\n",
    "    return density * velocity * length / visc_dynamic"
   ]
  },
  {
   "cell_type": "code",
   "execution_count": 57,
   "id": "581f9eaf",
   "metadata": {
    "tags": []
   },
   "outputs": [
    {
     "name": "stdout",
     "output_type": "stream",
     "text": [
      "Reynolds number = 6.752322e+06\n"
     ]
    }
   ],
   "source": [
    "#Results\n",
    "if(abs(reynolds(1106.6351294355363, 10, 0.1, 0.0001638895690225786) - 6.752322E6)) > 0.1:\n",
    "    print(\"WARNING: Failed verification case\")\n",
    "else:\n",
    "    print(\"Reynolds number =\", \"{:e}\".format(reynolds(length, velocity, density, visc_dynamic)))       "
   ]
  }
 ],
 "metadata": {
  "kernelspec": {
   "display_name": "Python 3 (ipykernel)",
   "language": "python",
   "name": "python3"
  },
  "language_info": {
   "codemirror_mode": {
    "name": "ipython",
    "version": 3
   },
   "file_extension": ".py",
   "mimetype": "text/x-python",
   "name": "python",
   "nbconvert_exporter": "python",
   "pygments_lexer": "ipython3",
   "version": "3.9.12"
  },
  "toc-showtags": false
 },
 "nbformat": 4,
 "nbformat_minor": 5
}

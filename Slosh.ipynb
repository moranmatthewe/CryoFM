{
 "cells": [
  {
   "attachments": {},
   "cell_type": "markdown",
   "metadata": {},
   "source": [
    "# Slosh Analytical Calculations for a Closed Tank"
   ]
  },
  {
   "attachments": {},
   "cell_type": "markdown",
   "metadata": {},
   "source": [
    "Copyright 2023 Moran Innovation LLC\n",
    "\n",
    "   Licensed under the Apache License, Version 2.0 (the \"License\");\n",
    "   you may not use this file except in compliance with the License.\n",
    "   You may obtain a copy of the License at http://www.apache.org/licenses/LICENSE-2.0\n",
    "\n",
    "   Unless required by applicable law or agreed to in writing, software\n",
    "   distributed under the License is distributed on an \"AS IS\" BASIS,\n",
    "   WITHOUT WARRANTIES OR CONDITIONS OF ANY KIND, either express or implied.\n",
    "   See the License for the specific language governing permissions and\n",
    "   limitations under the License.\n",
    "\n",
    "CryoFM™ is a trademark of Moran Innovation LLC. All rights reserved."
   ]
  },
  {
   "attachments": {},
   "cell_type": "markdown",
   "metadata": {},
   "source": [
    "Ref: Ludwig, et al., “Pressure Variations in a Cryogenic Liquid Storage Tank Subjected to Periodic Excitations”, Intl Journal of Heat and Mass Transfer 66 (2013) 223-234\n",
    "\n",
    "Note: CoolProp doesn't support transport properties for parahydrogen or methane, so viscosity and conductivity are provided as input using NIST RefProp look-up values."
   ]
  },
  {
   "attachments": {},
   "cell_type": "markdown",
   "metadata": {
    "tags": []
   },
   "source": [
    "## Verification Cases from Ludwig, et al."
   ]
  },
  {
   "attachments": {},
   "cell_type": "markdown",
   "metadata": {},
   "source": [
    "### Nitrogen Tests (cylindrical tank)"
   ]
  },
  {
   "attachments": {},
   "cell_type": "markdown",
   "metadata": {},
   "source": [
    "#### Inputs for Nitrogen Sloshing Tests E1 through E5"
   ]
  },
  {
   "cell_type": "code",
   "execution_count": 1,
   "metadata": {},
   "outputs": [],
   "source": [
    "import math\n",
    "\n",
    "fluid = 'Nitrogen'\n",
    "gasconstsp = 296.8  # J/kg-K gas constant, specific (Rs)\n",
    "radius_tank = 0.148  # m, cylindrical tank radius (R)\n",
    "area_inter = math.pi * (radius_tank)**2  # m^2, liquid interface area (S)\n",
    "volume_tank = 0.043  # m^3, tank volume (V)\n",
    "volume_ullage = 0.01333  # m^3, ullage volume at 69% volumetric fill level (Vu)\n",
    "temp_liq = 77.6  # K, bulk liquid temperature (Tl; saturated at 1 atm)"
   ]
  },
  {
   "attachments": {},
   "cell_type": "markdown",
   "metadata": {},
   "source": [
    "#### Test E2 Specific Inputs (stable planar wave sloshing)"
   ]
  },
  {
   "cell_type": "code",
   "execution_count": 2,
   "metadata": {},
   "outputs": [],
   "source": [
    "case = 'LN2 Test E2, Ludwig et al.'\n",
    "\n",
    "# Fluid conditions immediately prior to start of sloshing\n",
    "temp_vap_init = 161.  # K, initial mean vapor temperature (Tv,i)\n",
    "press_init = 2.422e5  # Pa, tank pressure at start of sloshing (ts,o)\n",
    "diffus_sat = 7.9916e-8  # m^2/s, thermal diffusivity (Do)\n",
    "visc_kinsat = 15.495e-8  # m^2/s, kinematic viscosity, sat at initial pressure\n",
    "visc_kinliq = 19.803e-8  # m^2/s, kinematic viscosity at liquid temp & pressure\n",
    "\n",
    "# Sloshing parameters (sinuisoidal and parallel to liquid interface)\n",
    "freq = 1.49  # Hz, slosh frequency (f)\n",
    "freq1 = 1.757  # Hz, 1st mode natural frequency (f1)\n",
    "ampl_forcing = 5.1e-3  # m, forcing amplitude (Af)\n",
    "angfreq_nat1 = 11.04  # 1/s, first natural angular frequency (w1)\n",
    "ang_wave_freq = 2 * math.pi * freq  # rad/s, angular wave frequency (w)\n",
    "ratio_wave_freq = ang_wave_freq / angfreq_nat1 # (w/w1)\n",
    "\n",
    "# Planar slosh wave height estimate, m\n",
    "wave_height = ampl_forcing * (2 * ratio_wave_freq**2 /(1 - ratio_wave_freq**2))\n",
    "\n",
    "# Mean vapor temperature change rate during slosh\n",
    "dtemp_dtime_vap = 0.  # K/s, vapor temperature change rate\n",
    "\n",
    "# Test time inputs (pressurization starts at 0)\n",
    "time_press_final = 52.7  # s, pressurization time\n",
    "time_slosh_start = 203.8  # s, sloshing start time\n",
    "time_final = 485.1  # s, end of sloshing including decay time\n",
    "time_model = 209.  # s, pressure drop begins (estimated from test data)\n",
    "\n",
    "# Transient calculation settings\n",
    "slosh_time = 0.0 # s, initialize to start of sloshing pressure drop\n",
    "time_step = 0.1  # s, time increment for each iteration\n",
    "stop_time = 31.2  # s, final calculation time\n",
    "results_interval = 5 # s, time interval for printing transient results"
   ]
  },
  {
   "attachments": {},
   "cell_type": "markdown",
   "metadata": {},
   "source": [
    "#### Test E4 Specific Inputs (chaotic wave sloshing)"
   ]
  },
  {
   "cell_type": "code",
   "execution_count": 11,
   "metadata": {},
   "outputs": [],
   "source": [
    "case = 'LN2 Test E4, Ludwig et al.'\n",
    "\n",
    "# Fluid conditions immediately prior to start of sloshing\n",
    "temp_vap_init = 159.  # K, initial mean vapor temperature (Tv,i)\n",
    "press_init = 2.475e5  # Pa, tank pressure at start of sloshing (ts,o)\n",
    "diffus_sat = 7.9677e-8  # m^2/s, thermal diffusivity (Do)\n",
    "visc_kinsat = 15.397e-8  # m^2/s,  kinematic viscosity, sat at initial pressure\n",
    "visc_kinliq = 19.805e-8  # m^2/s, kinematic viscosity at liquid temp & pressure\n",
    "\n",
    "# Sloshing parameters (sinuisoidal and parallel to liquid interface)\n",
    "freq = 1.65  # Hz, slosh frequency (f)\n",
    "freq1 = 1.757  # Hz, 1st mode natural frequency (f1)\n",
    "ampl_forcing = 5.1e-3  # m, forcing amplitude (Af)\n",
    "angfreq_nat1 = 11.04  # 1/s, first natural angular frequency (w1)\n",
    "ang_wave_freq = 2 * math.pi * freq  # rad/s, angular wave frequency (w)\n",
    "ratio_wave_freq = ang_wave_freq / angfreq_nat1 # (w/w1)\n",
    "\n",
    "# Chaotic slosh wave height estimate, m\n",
    "accel = 9.80665  # m/s^2, acceleration\n",
    "wave_height = accel / ang_wave_freq**2\n",
    "\n",
    "# Mean vapor temperature change rate during slosh\n",
    "dtemp_dtime_vap = -2.7  # K/s, vapor temperature change rate\n",
    "\n",
    "# Test time inputs (pressurization starts at 0)\n",
    "time_press_final = 55.4  # s, pressurization time\n",
    "time_slosh_start = 207.4  # s, sloshing start time plus \n",
    "time_final = 447.6  # s, end of sloshing including decay time\n",
    "time_model = 211.5  # s, pressure drop begins (estimated from test data)\n",
    "\n",
    "# Transient calculation settings\n",
    "slosh_time = 0.0 # s, initialize to start of sloshing pressure drop\n",
    "time_step = 0.1  # s, time increment for each iteration\n",
    "stop_time = 9.9  # s, final calculation time\n",
    "results_interval = 1 # s, time interval for printing transient results"
   ]
  },
  {
   "attachments": {},
   "cell_type": "markdown",
   "metadata": {},
   "source": [
    "### Hydrogen Tests (spherical tank)"
   ]
  },
  {
   "attachments": {},
   "cell_type": "markdown",
   "metadata": {},
   "source": [
    "Notes:\n",
    "* Inputs for the LH2 tests from Ludwig et al. differed from reference report in some cases\n",
    "* Unreported parameters were calculated based on a spherical tank of radius 0.746 m\n",
    "* Nu result in Table 5 appears to use Re critical of 7228 for test 869 and 5899 for test 870 rather than the constant 4000 depicted in the Fig 11 curve fit"
   ]
  },
  {
   "attachments": {},
   "cell_type": "markdown",
   "metadata": {},
   "source": [
    "#### Inputs for Hydrogen Sloshing Tests 869 and 870"
   ]
  },
  {
   "cell_type": "code",
   "execution_count": 1,
   "metadata": {},
   "outputs": [],
   "source": [
    "import math\n",
    "\n",
    "fluid = 'Parahydrogen'\n",
    "gasconstsp = 4157.2  # J/kg-K gas constant, specific (Rs)\n",
    "radius_tank = 0.746  # m, cylindrical tank radius (R)\n",
    "volume_tank = 4 / 3 * math.pi * radius_tank**3  # m^3, tank volume (V)\n",
    "temp_vap_init = 40.  # K, initial mean vapor temperature (Tv,i)"
   ]
  },
  {
   "attachments": {},
   "cell_type": "markdown",
   "metadata": {},
   "source": [
    "#### Test 869 Specific Inputs (stable planar wave sloshing)"
   ]
  },
  {
   "cell_type": "code",
   "execution_count": 2,
   "metadata": {},
   "outputs": [],
   "source": [
    "import CoolProp.CoolProp as cp\n",
    "import CryoFM as cfm\n",
    "\n",
    "case = 'LH2 Test 869, Moran et al.'\n",
    "\n",
    "# Liquid height, ullage volume, and liquid interface area\n",
    "height_liq = 0.918  # m, based on 67% volumetric fill (33% ullage)\n",
    "volume_ullage = 0.33 * volume_tank  # m^3, ullage volume\n",
    "area_inter = cfm.sphere_area_inter(radius_tank, height_liq)  # m^2\n",
    "\n",
    "# Liquid bulk temperature and pressure before slosh start\n",
    "temp_liq = cp.PropsSI('T', 'P', 106179, 'Q', 0, fluid)  # K, sat at 15.4 psia\n",
    "press_init = 2.43e5  # Pa, tank pressure at start of sloshing (ts,o)\n",
    "\n",
    "# Fluid conditions immediately prior to start of sloshing\n",
    "diffus_sat = 12.855e-8   # m^2/s, thermal diffusivity (Do) at 250 kPa\n",
    "visc_kinsat = 15.439e-8  # m^2/s, kinematic viscosity, sat at 250 kPa\n",
    "visc_kinliq = 18.777e-8  # m^2/s, kinematic viscosity at liquid temp & 250 kPa\n",
    "\n",
    "# Sloshing parameters (sinuisoidal and parallel to liquid interface)\n",
    "ratio_wave_freq = 1.64 # (w/w1)\n",
    "freq = 0.95  # Hz, slosh frequency (f)\n",
    "ang_wave_freq = 2 * math.pi * freq  # rad/s, angular wave frequency (w)\n",
    "ampl_forcing = 1.27e-2  # m, forcing amplitude (Af)\n",
    "freq1 = freq / ratio_wave_freq  # Hz, 1st mode natural freq using Table 5 (f1)\n",
    "\n",
    "# Planar slosh wave height estimate, m\n",
    "wave_height = 0.06 * radius_tank  # m, based on b/R from Table 5\n",
    "\n",
    "# Mean vapor temperature change rate during slosh\n",
    "dtemp_dtime_vap = 0.  # K/s, vapor temperature change rate\n",
    "\n",
    "# Test time inputs (pressurization starts at 0)\n",
    "time_press_final = 13.  # s, pressurization time\n",
    "time_slosh_start = 41.  # s, sloshing start time\n",
    "time_final = 300.  # s, end of sloshing test\n",
    "time_model = 50.  # s, pressure drop begins (estimated from test data)\n",
    "\n",
    "# Transient calculation settings\n",
    "slosh_time = 0.0 # s, initialize to start of sloshing pressure drop\n",
    "time_step = 0.1  # s, time increment for each iteration\n",
    "stop_time = 50.  # s, final calculation time\n",
    "results_interval = 5 # s, time interval for printing transient results"
   ]
  },
  {
   "attachments": {},
   "cell_type": "markdown",
   "metadata": {},
   "source": [
    "#### Test 870 Specific Inputs (chaotic wave sloshing)"
   ]
  },
  {
   "cell_type": "code",
   "execution_count": 2,
   "metadata": {},
   "outputs": [],
   "source": [
    "import CoolProp.CoolProp as cp\n",
    "import CryoFM as cfm\n",
    "\n",
    "case = 'LH2 Test 870, Moran et al.'\n",
    "\n",
    "# Liquid height, ullage volume, and liquid interface area\n",
    "height_liq = 0.887  # m, based on 67% volumetric fill (33% ullage)\n",
    "volume_ullage = 0.36 * volume_tank  # m^3, ullage volume\n",
    "area_inter = cfm.sphere_area_inter(radius_tank, height_liq)  # m^2\n",
    "\n",
    "# Liquid bulk temperature and pressure before slosh start\n",
    "temp_liq = cp.PropsSI('T', 'P', 100663, 'Q', 0, fluid)  # K, sat at 15.4 psia\n",
    "press_init = 2.43e5  # Pa, tank pressure at start of sloshing (ts,o)\n",
    "\n",
    "# Fluid conditions immediately prior to start of sloshing\n",
    "diffus_sat = 12.855e-8   # m^2/s, thermal diffusivity (Do) at 250 kPa\n",
    "visc_kinsat = 15.439e-8  # m^2/s, kinematic viscosity, sat at 250 kPa\n",
    "visc_kinliq = 19.003e-8  # m^2/s, kinematic viscosity at liquid temp & 250 kPa\n",
    "\n",
    "# Sloshing parameters (sinuisoidal and parallel to liquid interface)\n",
    "ratio_wave_freq = 1.3 # (w/w1)\n",
    "freq = 0.74  # Hz, slosh frequency (f)\n",
    "ang_wave_freq = 2 * math.pi * freq  # rad/s, angular wave frequency (w)\n",
    "ampl_forcing = 3.81e-2  # m, forcing amplitude (Af)\n",
    "freq1 = freq / ratio_wave_freq  # Hz, 1st mode natural freq using Table 5 (f1)\n",
    "\n",
    "# Chaotic slosh wave height estimate, m\n",
    "wave_height = 0.6 * radius_tank  # m, based on b/R from Table 5\n",
    "\n",
    "# Mean vapor temperature change rate during slosh (see Table 4)\n",
    "dtemp_dtime_vap = -0.45  # K/s, empirical vapor temperature change rate\n",
    "\n",
    "# Test time inputs (pressurization starts at 0)\n",
    "time_press_final = 14.  # s, pressurization time\n",
    "time_slosh_start = 41.  # s, sloshing start time\n",
    "time_final = 300.  # s, end of sloshing test\n",
    "time_model = 50.  # s, pressure drop begins (estimated from test data)\n",
    "\n",
    "# Transient calculation settings\n",
    "slosh_time = 0.0 # s, initialize to start of sloshing pressure drop\n",
    "time_step = 0.1  # s, time increment for each iteration\n",
    "stop_time = 13.9  # s, final calculation time\n",
    "results_interval = 1 # s, time interval for printing transient results"
   ]
  },
  {
   "attachments": {},
   "cell_type": "markdown",
   "metadata": {},
   "source": [
    "## Sloshing Analytical Calculations"
   ]
  },
  {
   "cell_type": "code",
   "execution_count": 3,
   "metadata": {},
   "outputs": [
    {
     "name": "stdout",
     "output_type": "stream",
     "text": [
      "LH2 Test 870, Moran et al.\n",
      "slosh time = 0.0 s\n",
      "experiment time = 50.0\n",
      "pressure = 2.430e+05 Pa\n",
      "\n",
      "slosh time = 1.0 s\n",
      "experiment time = 51.0\n",
      "condensation velocity = -3.793e-03 m/s\n",
      "condensation rate = -1.666e-02 kg/s\n",
      "depress rate = -8.041e+03 Pa/s\n",
      "pressure = 2.333e+05 Pa\n",
      "\n",
      "slosh time = 2.0 s\n",
      "experiment time = 52.0\n",
      "condensation velocity = -2.962e-03 m/s\n",
      "condensation rate = -1.263e-02 kg/s\n",
      "depress rate = -6.686e+03 Pa/s\n",
      "pressure = 2.261e+05 Pa\n",
      "\n",
      "slosh time = 3.0 s\n",
      "experiment time = 53.0\n",
      "condensation velocity = -2.544e-03 m/s\n",
      "condensation rate = -1.056e-02 kg/s\n",
      "depress rate = -6.009e+03 Pa/s\n",
      "pressure = 2.198e+05 Pa\n",
      "\n",
      "slosh time = 4.0 s\n",
      "experiment time = 54.0\n",
      "condensation velocity = -2.285e-03 m/s\n",
      "condensation rate = -9.249e-03 kg/s\n",
      "depress rate = -5.585e+03 Pa/s\n",
      "pressure = 2.141e+05 Pa\n",
      "\n",
      "slosh time = 5.0 s\n",
      "experiment time = 55.0\n",
      "condensation velocity = -2.107e-03 m/s\n",
      "condensation rate = -8.324e-03 kg/s\n",
      "depress rate = -5.288e+03 Pa/s\n",
      "pressure = 2.086e+05 Pa\n",
      "\n",
      "slosh time = 6.0 s\n",
      "experiment time = 56.0\n",
      "condensation velocity = -1.976e-03 m/s\n",
      "condensation rate = -7.626e-03 kg/s\n",
      "depress rate = -5.063e+03 Pa/s\n",
      "pressure = 2.035e+05 Pa\n",
      "\n",
      "slosh time = 7.0 s\n",
      "experiment time = 57.0\n",
      "condensation velocity = -1.876e-03 m/s\n",
      "condensation rate = -7.075e-03 kg/s\n",
      "depress rate = -4.887e+03 Pa/s\n",
      "pressure = 1.985e+05 Pa\n",
      "\n",
      "slosh time = 8.0 s\n",
      "experiment time = 58.0\n",
      "condensation velocity = -1.798e-03 m/s\n",
      "condensation rate = -6.625e-03 kg/s\n",
      "depress rate = -4.743e+03 Pa/s\n",
      "pressure = 1.937e+05 Pa\n",
      "\n",
      "slosh time = 9.0 s\n",
      "experiment time = 59.0\n",
      "condensation velocity = -1.735e-03 m/s\n",
      "condensation rate = -6.249e-03 kg/s\n",
      "depress rate = -4.623e+03 Pa/s\n",
      "pressure = 1.890e+05 Pa\n",
      "\n",
      "slosh time = 10.0 s\n",
      "experiment time = 60.0\n",
      "condensation velocity = -1.684e-03 m/s\n",
      "condensation rate = -5.929e-03 kg/s\n",
      "depress rate = -4.521e+03 Pa/s\n",
      "pressure = 1.845e+05 Pa\n",
      "\n",
      "slosh time = 11.0 s\n",
      "experiment time = 61.0\n",
      "condensation velocity = -1.642e-03 m/s\n",
      "condensation rate = -5.652e-03 kg/s\n",
      "depress rate = -4.432e+03 Pa/s\n",
      "pressure = 1.800e+05 Pa\n",
      "\n",
      "slosh time = 12.0 s\n",
      "experiment time = 62.0\n",
      "condensation velocity = -1.608e-03 m/s\n",
      "condensation rate = -5.409e-03 kg/s\n",
      "depress rate = -4.355e+03 Pa/s\n",
      "pressure = 1.756e+05 Pa\n",
      "\n",
      "slosh time = 13.0 s\n",
      "experiment time = 63.0\n",
      "condensation velocity = -1.580e-03 m/s\n",
      "condensation rate = -5.194e-03 kg/s\n",
      "depress rate = -4.286e+03 Pa/s\n",
      "pressure = 1.713e+05 Pa\n",
      "\n",
      "slosh time = 14.0 s\n",
      "experiment time = 64.0\n",
      "condensation velocity = -1.557e-03 m/s\n",
      "condensation rate = -5.001e-03 kg/s\n",
      "depress rate = -4.224e+03 Pa/s\n",
      "pressure = 1.670e+05 Pa\n",
      "\n"
     ]
    }
   ],
   "source": [
    "import math\n",
    "import CoolProp.CoolProp as cp\n",
    "import CryoFM as cfm\n",
    "\n",
    "# Initialization of parameters\n",
    "pressure = press_init  # Pa, tank pressure\n",
    "press_last = press_init # Pa, tank pressure at last time step\n",
    "temp_vap = temp_vap_init # K, mean vapor temp at current time step\n",
    "temp_vap_last = temp_vap_init # K, mean vapor temp at last time step\n",
    "cond_velm_last = 0.  # m/s, greatest condensation velocity\n",
    "condense_ratem = 0.  # kg/s, greatest condensation rate\n",
    "condense_ratem_last = 0.\n",
    "condense_amt = 0.  # kg, cumulative vapor condensed during sloshing\n",
    "results_ctr = 0  # time step counter for printing results\n",
    "i = -1  # index for interface area\n",
    "\n",
    "# Initial saturated fluid properties (0 is liquid, 1 is vapor)\n",
    "press_eval = press_init\n",
    "temp_sat = cp.PropsSI('T', 'P', press_eval, 'Q', 0, fluid) # K\n",
    "density_liqsat = cp.PropsSI('D', 'P', press_eval, 'Q', 0, fluid) # kg/m^3\n",
    "density_vapsat = cp.PropsSI('D', 'P', press_eval, 'Q', 1, fluid) # kg/m^3\n",
    "cp_liqsat = cp.PropsSI('C', 'P', press_eval, 'Q', 0, fluid) # J/kg-K\n",
    "enthal_liqsat = cp.PropsSI('H', 'P', press_eval, 'Q', 0, fluid) # J/kg\n",
    "enthal_vapsat = cp.PropsSI('H', 'P', press_eval, 'Q', 1, fluid) # J/kg\n",
    "latent_heat = enthal_vapsat - enthal_liqsat  # J/kg\n",
    "\n",
    "# Initial liquid properties\n",
    "press_eval = press_init  # Pa, set pressure to evaluate fluid properties\n",
    "temp_eval = temp_liq  # K, set temperature to evaluate fluid properties\n",
    "dens_liq = cp.PropsSI('D', 'P', press_eval, 'T', temp_eval, fluid) #kg/m^3\n",
    "cp_liq = cp.PropsSI('C', 'P', press_eval, 'T', temp_eval, fluid) # J/kg-K\n",
    "\n",
    "# Initial thermal gradient thickness (liquid), critical slosh Reynolds number\n",
    "grad_init = cfm.init_grad_thick(diffus_sat, time_model) # m\n",
    "reynolds_crit = 4000.  # +/-20% according to Ludwig, et al.\n",
    "\n",
    "# Print initial conditions right before slosh start\n",
    "print(case)\n",
    "print(\"slosh time =\", \"{:.1f}\".format(slosh_time), \"s\")\n",
    "print(\"experiment time =\", \"{:.1f}\".format(time_model, \"s\"))\n",
    "print(\"pressure =\", \"{:.3e}\".format(pressure), \"Pa\")  \n",
    "print(\"\")\n",
    "\n",
    "### Sloshing calculations ###\n",
    "\n",
    "reynolds_slosh = cfm.slosh_reynolds(ang_wave_freq, wave_height, visc_kinliq)\n",
    "nusselt_slosh = cfm.slosh_nusselt(reynolds_slosh, reynolds_crit)\n",
    "diffus_eff = nusselt_slosh * diffus_sat  # eff diffusivity during slosh\n",
    "delta_tslosh = cfm.tslosh_delta(grad_init,nusselt_slosh,diffus_sat)\n",
    "\n",
    "while slosh_time < stop_time:\n",
    "    \n",
    "    # Increment slosh time, model time, and results print counter\n",
    "    slosh_time += time_step  # s, elapsed time since slosh start\n",
    "    time_model += time_step # s, time since pressurization start\n",
    "    results_ctr += time_step\n",
    "\n",
    "    # Saturated fluid properties (0 is liquid, 1 is vapor)\n",
    "    press_eval = pressure\n",
    "    density_liqsat = cp.PropsSI('D', 'P', press_eval, 'Q', 0, fluid) # kg/m^3\n",
    "    density_vapsat = cp.PropsSI('D', 'P', press_eval, 'Q', 1, fluid) # kg/m^3\n",
    "    cp_liqsat = cp.PropsSI('C', 'P', press_eval, 'Q', 0, fluid) # J/kg-K\n",
    "    enthal_liqsat = cp.PropsSI('H', 'P', press_eval, 'Q', 0, fluid) # J/kg\n",
    "    enthal_vapsat = cp.PropsSI('H', 'P', press_eval, 'Q', 1, fluid) # J/kg\n",
    "    latent_heat = enthal_vapsat - enthal_liqsat  # J/kg\n",
    "\n",
    "    # Interfacial mass transfer\n",
    "    jakob = cfm.slosh_jakob(dens_liq, cp_liq, temp_sat, temp_liq, \n",
    "                            density_vapsat, latent_heat)\n",
    "    condense_vel = cfm.slosh_condense_vel(nusselt_slosh, diffus_sat, jakob,\n",
    "                   slosh_time, delta_tslosh)\n",
    "    cond_velm = min(condense_vel, cond_velm_last)\n",
    "    evap_vel = 0.1 * condense_vel\n",
    "    condense_rate = density_vapsat * area_inter * (condense_vel - evap_vel)\n",
    "    condense_ratem = min(condense_rate, condense_ratem_last) \n",
    "    condense_amt = condense_amt + condense_rate * time_step\n",
    "\n",
    "    # Pressure (eqn 13) and vapor temperature calculations at current time step\n",
    "\n",
    "    temp_vap = temp_vap_last + dtemp_dtime_vap * time_step\n",
    "    pressure = cfm.slosh_pressure(press_init, temp_vap, temp_vap_init, \n",
    "                                  gasconstsp, density_vapsat, volume_ullage, \n",
    "                                  jakob, area_inter, nusselt_slosh, diffus_sat, \n",
    "                                  slosh_time, delta_tslosh, evap_vel)\n",
    "    dp_dt = (pressure - press_last) / time_step\n",
    "\n",
    "    # Determine max pressure drop rate (see table 4 for description)\n",
    "    maxdp_time = cfm.slosh_maxdp_time(freq, freq1)\n",
    "    if slosh_time > maxdp_time:  # time period of max pressure drop\n",
    "        dpdt_max = (press_last - press_init) / (slosh_time - time_step) / 1000.\n",
    "        cond_velm = condense_vel\n",
    "\n",
    "    # Save pressure, vapor temp, and max condensation for next time step\n",
    "    press_last = pressure\n",
    "    temp_vap_last = temp_vap\n",
    "    cond_velm_last = cond_velm\n",
    "    condense_ratem_last = condense_ratem\n",
    "\n",
    "    # Print results at selected time intervals\n",
    "    if results_ctr > (results_interval - time_step):\n",
    "        print(\"slosh time =\", \"{:.1f}\".format(slosh_time), \"s\")\n",
    "        print(\"experiment time =\", \"{:.1f}\".format(time_model, \"s\"))\n",
    "        print(\"condensation velocity =\", \"{:.3e}\".format(condense_vel), \"m/s\")      \n",
    "        print(\"condensation rate =\", \"{:.3e}\".format(condense_rate), \"kg/s\")\n",
    "        print(\"depress rate =\", \"{:.3e}\".format(dp_dt), \"Pa/s\")\n",
    "        print(\"pressure =\", \"{:.3e}\".format(pressure), \"Pa\")  \n",
    "        print(\"\")\n",
    "        results_ctr = 0 # reset results print counter"
   ]
  },
  {
   "attachments": {},
   "cell_type": "markdown",
   "metadata": {},
   "source": [
    "## Summary Results"
   ]
  },
  {
   "cell_type": "code",
   "execution_count": 4,
   "metadata": {},
   "outputs": [
    {
     "name": "stdout",
     "output_type": "stream",
     "text": [
      "LH2 Test 870, Moran et al.\n",
      "liquid thermal diffusivity = 1.29e-07 m^2/s\n",
      "sloshing Reynolds number = 4.902e+06\n",
      "sloshing Nusselt number = 135.2\n",
      "effective thermal diffusivity = 1.738e-05 m^2/s\n",
      "Max pressure drop rate = -5.43 kPa/s\n",
      "Max pressure drop delta time = 14.0 s\n",
      "Pressure drop after 14.0 s = -76.0 kPa\n",
      "Wave height to tank radius ratio = 0.60\n",
      "Initial thermal boundary gradient thickness = 4.5e-03 m\n",
      "Greatest condensation velocity = -1.56e-03 m/s\n",
      "Greatest condensation rate = -2.86e-02 kg/s\n",
      "Total condensed vapor after 14.0 s = -1.22e-01 kg\n"
     ]
    }
   ],
   "source": [
    "# Print summary results\n",
    "delta_p = (pressure - press_init) / 1000  # kPa, dpm\n",
    "time_dp = delta_p / dpdt_max  # s, time interval for max dp/dt\n",
    "b_R = wave_height / radius_tank  # b/R\n",
    "print(case)\n",
    "print(\"liquid thermal diffusivity =\", \"{:.2e}\".format(diffus_sat), \"m^2/s\")\n",
    "print(\"sloshing Reynolds number =\", \"{:.3e}\".format(reynolds_slosh))\n",
    "print(\"sloshing Nusselt number =\", \"{:.1f}\".format(nusselt_slosh))\n",
    "print(\"effective thermal diffusivity =\", \"{:.3e}\".format(diffus_eff),\n",
    "    \"m^2/s\")\n",
    "print(\"Max pressure drop rate =\", \"{:.2f}\".format(dpdt_max), \"kPa/s\")\n",
    "print(\"Max pressure drop delta time =\", \"{:.1f}\".format(time_dp), \"s\")\n",
    "print(\"Pressure drop after\", \"{:.1f}\".format(slosh_time), \"s =\", \\\n",
    "    \"{:.1f}\".format(delta_p), \"kPa\")\n",
    "print(\"Wave height to tank radius ratio =\", \"{:.2f}\".format(b_R))\n",
    "print(\"Initial thermal boundary gradient thickness =\", \\\n",
    "    \"{:.1e}\".format(grad_init), \"m\")\n",
    "print(\"Greatest condensation velocity =\", \"{:.2e}\".format(cond_velm), \"m/s\")\n",
    "print(\"Greatest condensation rate =\", \"{:.2e}\".format(condense_ratem), \"kg/s\")\n",
    "print(\"Total condensed vapor after\", \"{:.1f}\".format(slosh_time), \"s =\", \n",
    "        \"{:.2e}\".format(condense_amt), \"kg\")"
   ]
  },
  {
   "attachments": {},
   "cell_type": "markdown",
   "metadata": {
    "tags": []
   },
   "source": [
    "## Supplemental Calculations"
   ]
  },
  {
   "attachments": {},
   "cell_type": "markdown",
   "metadata": {},
   "source": [
    "### Ideal gas first approximation of temperature change (Gay-Lussac's law)"
   ]
  },
  {
   "attachments": {},
   "cell_type": "markdown",
   "metadata": {},
   "source": [
    "Notes:\n",
    "* Use the calculations below when the vapor change rate during slosh is not known\n",
    "* For chaotic slosh waves: run above analytical calculations once through with DT/dt = 0, then use new dT/dt calculated below to update vapor change rate input before running analytical calculations a second (and final) time\n",
    "* For planer slosh waves: assuming dT/dt = 0 matches the pressure response profile better than using the below calculations"
   ]
  },
  {
   "cell_type": "code",
   "execution_count": 4,
   "metadata": {},
   "outputs": [
    {
     "name": "stdout",
     "output_type": "stream",
     "text": [
      "LH2 Test 870, Moran et al.\n",
      "Average vapor temperature change -0.45 K/s\n"
     ]
    }
   ],
   "source": [
    "# Inputs \n",
    "temp_vap_old = temp_vap_init\n",
    "press_old = press_init\n",
    "time_delta = slosh_time\n",
    "\n",
    "# Vapor temp at new pressure (ideal gas, Gay-Lussac's law: T2 = T1 * P2 / P1)\n",
    "temp_vap_now = temp_vap_old * pressure /press_init\n",
    "dT_dt = (temp_vap_now - temp_vap_old) / time_delta\n",
    "\n",
    "print(case)\n",
    "print(\"Average vapor temperature change\", \"{:.2f}\".format(dT_dt), \"K/s\")"
   ]
  },
  {
   "attachments": {},
   "cell_type": "markdown",
   "metadata": {},
   "source": [
    "### Evolution of Thermal Boundary Layer with Time"
   ]
  },
  {
   "attachments": {},
   "cell_type": "markdown",
   "metadata": {},
   "source": [
    "Estimates temperature of the liquid at a chosen depth below the interface as a function of time from the start of ramp pressurization. See Ludwig et al. article for discussion of variance with actual thermal boundary layer evolution based on sensor data."
   ]
  },
  {
   "cell_type": "code",
   "execution_count": 5,
   "metadata": {},
   "outputs": [
    {
     "name": "stdout",
     "output_type": "stream",
     "text": [
      "LH2 Test 870, Moran et al.\n",
      "The temperature 4.476e-01 m below the interface at experiment time 64.0 s is: 20.25 K\n"
     ]
    }
   ],
   "source": [
    "import math\n",
    "\n",
    "# Inputs\n",
    "liquid_height = 0.455  # m, dimension from bottom of tank to liquid interface\n",
    "vert_location = 0.455 - wave_height  # m, location height to calculate temp\n",
    "below_inter = liquid_height - vert_location # m, location depth below interface\n",
    "\n",
    "# Calculate temperature at selected vertical location\n",
    "temp_location = (temp_sat - temp_liq) * math.erfc((liquid_height \n",
    "                 - vert_location) / 2 / math.sqrt(diffus_eff \n",
    "                 * time_model)) + temp_liq\n",
    "\n",
    "# Print temperature at selected location\n",
    "print(case)\n",
    "print(\"The temperature\", \"{:.3e}\".format(below_inter), \"m below the \\\n",
    "interface at experiment time\", \"{:.1f}\".format(time_model), \"s is:\", \\\n",
    "\"{:.2f}\".format(temp_location), \"K\")"
   ]
  }
 ],
 "metadata": {
  "kernelspec": {
   "display_name": "Python 3 (ipykernel)",
   "language": "python",
   "name": "python3"
  },
  "language_info": {
   "codemirror_mode": {
    "name": "ipython",
    "version": 3
   },
   "file_extension": ".py",
   "mimetype": "text/x-python",
   "name": "python",
   "nbconvert_exporter": "python",
   "pygments_lexer": "ipython3",
   "version": "3.9.12"
  },
  "toc-autonumbering": true,
  "vscode": {
   "interpreter": {
    "hash": "439437af3587d30f29a2b254ec1c6707681b598e1f46b329955c64be4382d26e"
   }
  }
 },
 "nbformat": 4,
 "nbformat_minor": 4
}
